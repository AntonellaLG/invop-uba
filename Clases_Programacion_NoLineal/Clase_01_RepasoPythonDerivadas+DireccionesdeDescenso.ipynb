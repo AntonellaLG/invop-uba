{
  "cells": [
    {
      "cell_type": "markdown",
      "metadata": {
        "id": "5DNxV1JkVRJQ"
      },
      "source": [
        "### Introducción a la Investigación Operativa y la Optimización\n",
        "\n",
        "### • Optimización no lineal - Clase 1\n",
        "\n",
        "**Nazareno Faillace Mullen - Departamento de Matemática, FCEN, UBA**\n"
      ]
    },
    {
      "cell_type": "markdown",
      "metadata": {
        "id": "YOZSn3-IVRJU"
      },
      "source": [
        "### Contenidos\n",
        "* <a href=\"#whyPython\">¿Por qué usar Python?</a>\n",
        "* <a href =\"Sintaxis\">Sintaxis</a>\n",
        "* <a href=\"#objs\">Objetos Básicos de Python</a>\n",
        "    * <a href=\"#list\">Listas</a>\n",
        "    * <a href=\"#tuple\">Tupla</a>\n",
        "* <a href=\"#Mutables\">Mutables e Immutables</a>\n",
        "* <a href=\"#tricks\">Algunos trucos de Python</a>\n",
        "* <a href=\"#func\">Funciones</a>\n",
        "    * <a href=\"#funcanon\">Funciones anónimas</a>\n",
        "* <a href=\"#numpy\">Librería Numpy</a>\n",
        "    * <a href=\"#numpycoms\">Comandos útiles para arrays</a>\n",
        "* <a href=\"#ders\">Derivadas para una función en una variable</a>"
      ]
    },
    {
      "cell_type": "markdown",
      "metadata": {
        "id": "CFLaIwIxVRJY"
      },
      "source": [
        "<a name=\"whyPython\"></a>\n",
        "## ¿Por qué usar Python?\n",
        "\n",
        "![python.png](Imagenes/python.png)\n",
        "\n",
        "* ¡Gratis!\n",
        "-  Gran comunidad ($\\Rightarrow$ Diversidad de paquetes y funcionalidades)\n",
        "-  Versátil\n",
        "-  Es fácil plasmar ideas\n",
        "-  Sintaxis amena"
      ]
    },
    {
      "cell_type": "markdown",
      "metadata": {
        "id": "1AU6I7_dVRJa"
      },
      "source": [
        "<a name=\"sintaxis\"></a>\n",
        "## Sintaxis\n",
        "\n",
        "* Asignar valor: `=`\n",
        "* Operadores aritméticos: `+, -, *, /, %, **`\n",
        "   \n",
        "   En Python son equivalentes, por ejemplo: `x = x + 1` y `x += 1`\n",
        "\n",
        "* Operadores de comparación: `==, !=, >, <, >=, <=`\n",
        "* Operadores de pertenencia: `in, not in`\n",
        "\n",
        "   Ejemplo:"
      ]
    },
    {
      "cell_type": "code",
      "execution_count": null,
      "metadata": {
        "colab": {
          "base_uri": "https://localhost:8080/"
        },
        "id": "omQSWE42VRJc",
        "outputId": "97c8a101-6afb-47e5-b4db-999e78f5c2f3",
        "pycharm": {
          "is_executing": true
        }
      },
      "outputs": [
        {
          "name": "stdout",
          "output_type": "stream",
          "text": [
            "True\n",
            "False\n",
            "True\n"
          ]
        }
      ],
      "source": [
        "ls = [1, 2, 9, 11]\n",
        "print(9 in ls)\n",
        "print(5 in ls)\n",
        "print (5 not in ls)"
      ]
    },
    {
      "cell_type": "markdown",
      "metadata": {
        "id": "LlogMkr9VRJe"
      },
      "source": [
        "* Loops: `for, while` (indentar el bloque!)\n",
        "* Condicionales: `if, else, elif` (indentar el bloque!)"
      ]
    },
    {
      "cell_type": "markdown",
      "metadata": {
        "id": "hggyZkqEVRJf"
      },
      "source": [
        "<a name=\"objs\"></a>\n",
        "## Algunos objetos básicos de Python\n",
        "\n",
        "\n",
        "\n",
        "| Bool | string | set | int | list | dict| float | tuple |   "
      ]
    },
    {
      "cell_type": "markdown",
      "metadata": {
        "id": "ezwo_kWYVRJg"
      },
      "source": [
        "<a name=\"list\"></a>\n",
        "### Listas (list)\n",
        "\n",
        "Uno de los objetos más maleables de Python. Es una colección ordenada de objetos (pueden haber repeticiones). No es necesario que los elementos de una lista sean todos del mismo tipo."
      ]
    },
    {
      "cell_type": "code",
      "execution_count": null,
      "metadata": {
        "colab": {
          "base_uri": "https://localhost:8080/"
        },
        "id": "8FlCK266VRJg",
        "outputId": "f216d52e-bf41-45df-94b9-d692fdb749d8"
      },
      "outputs": [
        {
          "name": "stdout",
          "output_type": "stream",
          "text": [
            "[1, 3, 1, 11]\n"
          ]
        }
      ],
      "source": [
        "A = [1, 3, 1, 11]\n",
        "print(A)"
      ]
    },
    {
      "cell_type": "markdown",
      "metadata": {
        "id": "0ZZGhvF7VRJi"
      },
      "source": [
        "__Importante__: en Python las secuencias (como listas y tuplas) comienzan en el índice 0\n",
        "\n",
        "Hay varias funciones para las listas que permiten, por ejemplo,  agregar un elemento al final de la lista (`append`) o encontrar el índice de un determinado elemento (`index`). Una lista comprensiva puede encontrarse en este [link](https://www.programiz.com/python-programming/methods/list)\n"
      ]
    },
    {
      "cell_type": "code",
      "execution_count": null,
      "metadata": {
        "colab": {
          "base_uri": "https://localhost:8080/"
        },
        "id": "-QqkhKiMVRJi",
        "outputId": "48f34a34-095d-43dc-a252-8175a75e0a04"
      },
      "outputs": [
        {
          "name": "stdout",
          "output_type": "stream",
          "text": [
            "A :  [1, 11, 3, -4]\n",
            "A :  [1, 11, 3, -4, 17]\n",
            "A :  [1, 11, -4, 17]\n",
            "A :  [13, 11, -4, 17]\n",
            "A[1:] :  [11, -4, 17]\n",
            "[13, 11, -4, 17, -1, 8]\n"
          ]
        }
      ],
      "source": [
        "# Definimos una lista\n",
        "A = [1, 11, 3, -4]\n",
        "print('A : ', A)\n",
        "\n",
        "# Agregamos un elemento al final\n",
        "A.append(17)\n",
        "print('A : ', A)\n",
        "\n",
        "# Eliminamos el elemento del índice 2\n",
        "del A[2]\n",
        "print('A : ', A)\n",
        "\n",
        "# Cambiamos el primer elemento\n",
        "A[0] = 13\n",
        "print('A : ', A)\n",
        "\n",
        "# Queremos obtener el una porción de A: desde el índice 1 hasta el final (la lista A no se modifica)\n",
        "print('A[1:] : ', A[1:])\n",
        "\n",
        "# Definimos otra lista y las concatenamos (ninguna de las dos listas es modificada)\n",
        "B = [-1, 8]\n",
        "print(A + B)"
      ]
    },
    {
      "cell_type": "markdown",
      "metadata": {
        "id": "4cGo8d1mVRJj"
      },
      "source": [
        "<a name=\"tuple\"></a>\n",
        "### Tuplas (tuple)\n",
        "\n",
        "Las tuplas también son una colección ordenada de objetos (pueden estar repetidos) pero una vez que definimos la tupla, no podemos agregarle ni quitarle elementos. La sintaxis para acceder a sus elementos es igual a la de las listas.\n",
        "\n",
        "Las tuplas son útiles para cuando sabemos que no realizaremos modificaciones. Además, iterar sobre una tupla es levemente más rápido que iterar sobre una lista."
      ]
    },
    {
      "cell_type": "code",
      "execution_count": null,
      "metadata": {
        "colab": {
          "base_uri": "https://localhost:8080/"
        },
        "id": "gJGznTOnVRJk",
        "outputId": "55c9c051-9a50-4811-af85-91bdfb0ab153"
      },
      "outputs": [
        {
          "name": "stdout",
          "output_type": "stream",
          "text": [
            "(1, 5, 3, 7)\n",
            "1\n"
          ]
        }
      ],
      "source": [
        "# Creamos una tupla\n",
        "A = (1, 5, 3, 7)\n",
        "print(A)\n",
        "\n",
        "# Accedemos a su primer elemento\n",
        "print(A[0])"
      ]
    },
    {
      "cell_type": "markdown",
      "metadata": {
        "id": "QNIzgJrLVRJk"
      },
      "source": [
        "<a name=\"Mutables\"></a>\n",
        "##  _mutables_ e _immutables_\n",
        "\n",
        "Ejercicio:\n",
        "\n",
        "1. Crear una lista A no vacía\n",
        "2. Definir una lista `B` que *copie* a `A`, utilizando el comando  `B = A`\n",
        "3. Modificar `A` (ej: agregando/quitando/modificando algún elemento)\n",
        "4. Imprimir `B`\n",
        "\n",
        "¿Suciedió lo que esperamos?"
      ]
    },
    {
      "cell_type": "code",
      "execution_count": null,
      "metadata": {
        "colab": {
          "base_uri": "https://localhost:8080/"
        },
        "id": "bu_8tmXpVRJl",
        "outputId": "7f6400cc-0c34-4e1d-9252-d7a5969b597c"
      },
      "outputs": [
        {
          "name": "stdout",
          "output_type": "stream",
          "text": [
            "B:  [1000, 2, 3, 4]\n"
          ]
        }
      ],
      "source": [
        "A = [1,2,3,4]\n",
        "B = A\n",
        "A[0] = 1000\n",
        "print('B: ', B)"
      ]
    },
    {
      "cell_type": "markdown",
      "metadata": {
        "id": "FljxIDJPVRJl"
      },
      "source": [
        "Los objetos que vimos anteriormente se dividen en dos categorías: _mutables_ e _immutables_, de la siguiente manera:\n",
        "\n",
        "__Mutables__: `list`, `set`, `dict`\n",
        "\n",
        "__Immutables__: `string`, `bool`, `int`, `float`, `tuple`\n",
        "\n",
        "Un objeto _mutable_ puede cambiar su estado o contenidos, pero un objeto _immutable_ no. En Python, cuando uno asigna un objeto a una variable no está copiando el objeto, sino creando una referencia a él. Para entender la diferencia entre las dos categorías, veremos algunos ejemplos. Utilizaremos el comando `id`"
      ]
    },
    {
      "cell_type": "code",
      "execution_count": null,
      "metadata": {
        "colab": {
          "base_uri": "https://localhost:8080/"
        },
        "id": "QMyb6LTQVRJm",
        "outputId": "577c80f3-1d53-4ea6-cdd6-65980f382a1e"
      },
      "outputs": [
        {
          "name": "stdout",
          "output_type": "stream",
          "text": [
            "x :  10\n",
            "y :  10\n",
            "id(x) == id(y) :  True\n",
            "id(y) == id(10) :  True\n"
          ]
        }
      ],
      "source": [
        "# Definimos dos variables\n",
        "x = 10\n",
        "y = x\n",
        "print('x : ', x)\n",
        "print('y : ', y)\n",
        "\n",
        "# Los identificadores de ambas variables apuntan al mismo objeto: 10\n",
        "print('id(x) == id(y) : ', id(x) == id(y))\n",
        "print('id(y) == id(10) : ', id(y) == id(10))"
      ]
    },
    {
      "cell_type": "markdown",
      "metadata": {
        "id": "MbL0bhOwVRJo"
      },
      "source": [
        "Efectuamos una operación que cambia el valor de `x`. Veamos qué ocurre:"
      ]
    },
    {
      "cell_type": "code",
      "execution_count": null,
      "metadata": {
        "colab": {
          "base_uri": "https://localhost:8080/"
        },
        "id": "dIoBxsHwVRJp",
        "outputId": "80d95d04-6f70-4f9a-c8c8-f7322a1e779d"
      },
      "outputs": [
        {
          "name": "stdout",
          "output_type": "stream",
          "text": [
            "Cambia el valor de x\n",
            "id(x) == id(y) :  False\n",
            "id(y) == id(10) :  True\n"
          ]
        }
      ],
      "source": [
        "# Ahora efectuamos una operación que modifica el valor de x\n",
        "print('Cambia el valor de x')\n",
        "x = x + 1\n",
        "\n",
        "# Los identificadores de ambas variables apuntan distintos objetos\n",
        "print('id(x) == id(y) : ', id(x) == id(y))\n",
        "print('id(y) == id(10) : ', id(y) == id(10))"
      ]
    },
    {
      "cell_type": "markdown",
      "metadata": {
        "id": "MQckqfZQVRJq"
      },
      "source": [
        "Asignamos un nuevo valor a `x` pero el objeto `10` no cambió. Notar que tampoco cambió el valor de `y` (sigue valiendo `10`)\n",
        "\n",
        "Veamos qué ocurre con un objeto _mutable_:"
      ]
    },
    {
      "cell_type": "code",
      "execution_count": null,
      "metadata": {
        "colab": {
          "base_uri": "https://localhost:8080/"
        },
        "id": "ccFUBpI5VRJq",
        "outputId": "3dfd807b-025e-4031-e1ad-b408feab9dfd"
      },
      "outputs": [
        {
          "name": "stdout",
          "output_type": "stream",
          "text": [
            "A :  [2, 1, 11, -1, 0]\n",
            "id(A) :  138267066740096\n",
            "B :  [2, 1, 11, -1, 0]\n",
            "id(B) :  138267066740096\n",
            "id(A) == id(B) :  True\n"
          ]
        }
      ],
      "source": [
        "# Definimos una lista A\n",
        "A = [2, 1, 11, -1, 0]\n",
        "print('A : ', A)\n",
        "print('id(A) : ', id(A))\n",
        "\n",
        "# Definimos otra lista B como igual a A\n",
        "B = A\n",
        "print('B : ', B)\n",
        "print('id(B) : ', id(B))\n",
        "\n",
        "# Los identificadores de A y de B apuntan al mismo objeto: [2, 1, 11, -1, 0]\n",
        "print('id(A) == id(B) : ', id(A) == id(B))"
      ]
    },
    {
      "cell_type": "markdown",
      "metadata": {
        "id": "eooRaKlhVRJs"
      },
      "source": [
        "Veamos qué ocurre si modificamos A:"
      ]
    },
    {
      "cell_type": "code",
      "execution_count": null,
      "metadata": {
        "colab": {
          "base_uri": "https://localhost:8080/"
        },
        "id": "BcA-Z2DOVRJs",
        "outputId": "82262689-414e-4594-e06e-1915d72b5e86"
      },
      "outputs": [
        {
          "name": "stdout",
          "output_type": "stream",
          "text": [
            "A :  [2, 1, 11, -1, 0, 99]\n",
            "id(A) :  138267066740096\n",
            "id(A) == id(B) :  True\n"
          ]
        }
      ],
      "source": [
        "# Ahora efecutamos una modificación a A: por ejemplo, agregamos un elemento\n",
        "A.append(99)\n",
        "\n",
        "# Los identificadores de A y de B siguen apuntando al mismo objeto: [2, 1, 11, -1, 0, 99]\n",
        "# Esto ocurre porque, en este caso, el objeto sí cambió\n",
        "print('A : ', A)\n",
        "print('id(A) : ', id(A))\n",
        "print('id(A) == id(B) : ', id(A) == id(B))"
      ]
    },
    {
      "cell_type": "markdown",
      "metadata": {
        "id": "pEOZMkxbVRJt"
      },
      "source": [
        "En este caso, como el objeto lista es _mutable_, el objeto sí cambia. Ahora el objeto es `[2,1,11,-1,0,99]` y las variables `A` y `B` siguen apuntando a él."
      ]
    },
    {
      "cell_type": "markdown",
      "metadata": {
        "id": "kBiT19uVVRJt"
      },
      "source": [
        "__Importante__: si `A` hace referencia a un objeto mutable (como un `set`) y queremos copiar `A` porque, por ejemplo, queremos guardar su estado actual antes de efectuar modificaciones sobre él, debemos recurrir a la función `copy`."
      ]
    },
    {
      "cell_type": "code",
      "execution_count": null,
      "metadata": {
        "colab": {
          "base_uri": "https://localhost:8080/"
        },
        "id": "SD6WxqMOVRJt",
        "outputId": "66abc78d-962d-4316-9d1f-02280e2e48a7"
      },
      "outputs": [
        {
          "name": "stdout",
          "output_type": "stream",
          "text": [
            "A :  {0, 1, 2, 11, -1}\n",
            "B :  {0, 1, 2, 11, -1}\n",
            "id(A) == id(B) :  False\n"
          ]
        }
      ],
      "source": [
        "# Definimos A\n",
        "A = set([2, 1, 11, -1, 0])\n",
        "\n",
        "# Queremos definir B, una copia de A\n",
        "B = A.copy()\n",
        "\n",
        "print('A : ', A)\n",
        "print('B : ', B)\n",
        "print('id(A) == id(B) : ', id(A) == id(B))"
      ]
    },
    {
      "cell_type": "markdown",
      "metadata": {
        "id": "azqyhPXXVRJu"
      },
      "source": [
        "Notar que tanto `A` como `B` son `set` con los mismos elementos, pero hacen referencia a distintos objetos. Ahora, si efectuamos cambios sobre `A`, `B` no se modifica."
      ]
    },
    {
      "cell_type": "code",
      "execution_count": null,
      "metadata": {
        "colab": {
          "base_uri": "https://localhost:8080/"
        },
        "id": "b2WqFDWBVRJu",
        "outputId": "dc2c6bc0-ea44-43ba-f509-2dfdd7a95f03"
      },
      "outputs": [
        {
          "name": "stdout",
          "output_type": "stream",
          "text": [
            "A :  {0, 1, 2, 99, 11}\n",
            "B :  {0, 1, 2, 11, -1}\n"
          ]
        }
      ],
      "source": [
        "# Eliminamos el elemento más chico de A\n",
        "A.discard(min(A))\n",
        "\n",
        "# Agregamos un nuevo elemento a A\n",
        "A.add(99)\n",
        "\n",
        "print('A : ', A)\n",
        "print('B : ', B)"
      ]
    },
    {
      "cell_type": "markdown",
      "metadata": {
        "id": "V2q4b632VRJv"
      },
      "source": [
        "Notar que `B` no sufrió cambios.\n",
        "\n",
        "El comando `deepcopy` se utiliza de igual manera. Es utilizado cuando hay _mutables_ que contienen a otros _mutables_ (como diccionarios que tengan listas como valores). La desventaja de `copy` y, especialmente, de `deepcopy` es que pueden incrementar el tiempo de cómputo significativamente.\n",
        "\n",
        "__Observación__: si queremos realizar una copia de la lista `A`, basta con escribir `B = A[:]`"
      ]
    },
    {
      "cell_type": "markdown",
      "metadata": {
        "id": "-YCrV07TVRJv"
      },
      "source": [
        "<a name=\"tricks\"></a>\n",
        "## Algunos trucos de Python\n",
        "\n",
        "### Iteración\n",
        "\n",
        "En Python generalmente se aprovecha el operador `in` para iterar. Por ejemplo, si deseamos imprimir los números del $2$ al $10$ basta con escribir:"
      ]
    },
    {
      "cell_type": "code",
      "execution_count": null,
      "metadata": {
        "colab": {
          "base_uri": "https://localhost:8080/"
        },
        "id": "ngGfLDB1VRJw",
        "outputId": "9246bcef-f112-45a8-e199-d4854f4ebad2"
      },
      "outputs": [
        {
          "name": "stdout",
          "output_type": "stream",
          "text": [
            "2\n",
            "3\n",
            "4\n",
            "5\n",
            "6\n",
            "7\n",
            "8\n",
            "9\n",
            "10\n"
          ]
        }
      ],
      "source": [
        "for i in range(2, 11):\n",
        "    print(i)"
      ]
    },
    {
      "cell_type": "markdown",
      "metadata": {
        "id": "-4I3I_sgVRJw"
      },
      "source": [
        "`range` tiene la siguiente sintaxis `range(inicio, fin, paso)` donde `fin` no está incluido e `inicio` y `paso`  son opcionales (sus valores por defecto son $0$ y $1$, respectivamente).\n",
        "\n",
        "Asimismo, con `in` podemos iterar sobre los elementos de cualquier iterable como, por ejemplo, una lista:"
      ]
    },
    {
      "cell_type": "code",
      "execution_count": null,
      "metadata": {
        "colab": {
          "base_uri": "https://localhost:8080/"
        },
        "id": "hosjBL8sVRJx",
        "outputId": "c0c277df-0599-4546-d45e-a6cd07d12215"
      },
      "outputs": [
        {
          "name": "stdout",
          "output_type": "stream",
          "text": [
            "-1\n",
            "4\n",
            "5\n",
            "7\n"
          ]
        }
      ],
      "source": [
        "L = [-1, 4, 5, 7]\n",
        "\n",
        "for i in L:\n",
        "    print(i)"
      ]
    },
    {
      "cell_type": "markdown",
      "metadata": {
        "id": "Jht93m8BVRJx"
      },
      "source": [
        "<a name=\"func\"></a>\n",
        "## Funciones\n",
        "\n",
        "Declaramos funciones con el comando `def`. El bloque de la función debe estar indentado (al igual que cuando definimos un `while`, `for` o `if`).\n",
        "\n",
        "Si necesitamos que la función devuelva un valor, usamos el comando `return`."
      ]
    },
    {
      "cell_type": "code",
      "execution_count": null,
      "metadata": {
        "colab": {
          "base_uri": "https://localhost:8080/"
        },
        "id": "wKiZ5BjjVRJy",
        "outputId": "03d096f5-304c-4959-a1fa-e644c3143b1b"
      },
      "outputs": [
        {
          "name": "stdout",
          "output_type": "stream",
          "text": [
            "16\n"
          ]
        }
      ],
      "source": [
        "def cuadrado(n):\n",
        "    return n**2\n",
        "\n",
        "x = 4\n",
        "print(cuadrado(4))"
      ]
    },
    {
      "cell_type": "markdown",
      "metadata": {
        "id": "wnZRu-bIVRJy"
      },
      "source": [
        "Las funciones pueden ser definidas con argumentos opcionales que tienen un valor por defecto."
      ]
    },
    {
      "cell_type": "code",
      "execution_count": null,
      "metadata": {
        "colab": {
          "base_uri": "https://localhost:8080/"
        },
        "id": "mk67sE_cVRJy",
        "outputId": "b71c79e0-66c8-4954-fcf9-7e73e1d4f66d"
      },
      "outputs": [
        {
          "name": "stdout",
          "output_type": "stream",
          "text": [
            "potencia(3) :  9\n",
            "potencia(3,4) :  81\n"
          ]
        }
      ],
      "source": [
        "def potencia(n, m=2):\n",
        "    return n**m\n",
        "\n",
        "x = 3\n",
        "\n",
        "# Si no pasamos el argumento m, la función considera su valor por defecto.\n",
        "y = potencia(3)\n",
        "print('potencia(3) : ', y)\n",
        "\n",
        "# En cambio, si le otorgamos un valor a m:\n",
        "y = potencia(3,4)\n",
        "print('potencia(3,4) : ', y)"
      ]
    },
    {
      "cell_type": "markdown",
      "metadata": {
        "id": "a8ZORxJDVRJz"
      },
      "source": [
        "__Importante__: las funciones pueden efectuar cambios sobre los objetos _mutables_ . Esto significa que tenemos que prestar atención a los cambios realizados sobre estos objetos, especialmente si los seguiremos utilizando en otras partes del código."
      ]
    },
    {
      "cell_type": "code",
      "execution_count": null,
      "metadata": {
        "colab": {
          "base_uri": "https://localhost:8080/"
        },
        "id": "m9foUGwiVRJz",
        "outputId": "26322f63-3e6c-44c3-bd39-69e0ef51385d"
      },
      "outputs": [
        {
          "name": "stdout",
          "output_type": "stream",
          "text": [
            "A :  [2, 3, 7, 11]\n",
            "A después de aplicar la función :  [2, 3, 7]\n"
          ]
        }
      ],
      "source": [
        "# La función 'foo' obtiene el último elemento de una lista,\n",
        "# lo borra de ella y lo eleva al cuadrado\n",
        "def foo(ls):\n",
        "    y = ls.pop()\n",
        "    return y**2\n",
        "\n",
        "# Definimos una lista\n",
        "A = [2, 3 ,7, 11]\n",
        "print('A : ', A)\n",
        "\n",
        "# Aplicamos la función\n",
        "x = foo(A)\n",
        "\n",
        "# Notar que, aunque Python tenga un scope local en las funciones, 'A' ha sido modificada\n",
        "print('A después de aplicar la función : ', A)"
      ]
    },
    {
      "cell_type": "markdown",
      "metadata": {
        "id": "zBuxDGS3VRJ0"
      },
      "source": [
        " El mismo comportamiento __no__ se observa con los objetos _immutables_"
      ]
    },
    {
      "cell_type": "code",
      "execution_count": null,
      "metadata": {
        "colab": {
          "base_uri": "https://localhost:8080/"
        },
        "id": "e1Mt4jISVRJ0",
        "outputId": "ac64747d-c8d8-4025-e12b-4ecdf8345e64"
      },
      "outputs": [
        {
          "name": "stdout",
          "output_type": "stream",
          "text": [
            "x antes de la función :  3\n",
            "x en la función : 4\n",
            "x después de correr la función :  3\n"
          ]
        }
      ],
      "source": [
        "def siguiente(n):\n",
        "    n += 1\n",
        "    print('x en la función :', n)\n",
        "\n",
        "# Definimos x\n",
        "x = 3\n",
        "print('x antes de la función : ', x)\n",
        "\n",
        "# Aplicamos la función\n",
        "siguiente(x)\n",
        "print('x después de correr la función : ', x)  # El valor de x no cambió fuera de la función"
      ]
    },
    {
      "cell_type": "code",
      "execution_count": null,
      "metadata": {
        "colab": {
          "base_uri": "https://localhost:8080/"
        },
        "id": "-WIlch8yVRJ0",
        "outputId": "938a32af-ba2d-4d81-8f69-6a1ed7a290d8"
      },
      "outputs": [
        {
          "name": "stdout",
          "output_type": "stream",
          "text": [
            "x antes de la función :  3\n",
            "x después de asignarle el resultado de la función :  4\n"
          ]
        }
      ],
      "source": [
        "# Si queremos que efectivamente x cambie, redefinimos la función de la siguiente manera:\n",
        "def siguiente(n):\n",
        "    n += 1\n",
        "    return n\n",
        "\n",
        "# Definimos x\n",
        "x = 3\n",
        "print('x antes de la función : ', x)\n",
        "\n",
        "# Aplicamos la función, pero tenemos que asignarle el resultado a x.\n",
        "x = siguiente(x)\n",
        "print('x después de asignarle el resultado de la función : ', x)"
      ]
    },
    {
      "cell_type": "markdown",
      "metadata": {
        "id": "zYmQwZD0VRJ1"
      },
      "source": [
        "<a name=\"funcanon\"></a>\n",
        "## Funciones anónimas\n",
        "\n",
        "El comando `lambda` nos permite definir funciones anónimas (es decir, funciones que no definimos utilizando `def`)."
      ]
    },
    {
      "cell_type": "code",
      "execution_count": null,
      "metadata": {
        "colab": {
          "base_uri": "https://localhost:8080/"
        },
        "id": "2cVEMJsGVRJ2",
        "outputId": "9d81321d-34a3-4ab2-b97c-a7f2088d39b1"
      },
      "outputs": [
        {
          "name": "stdout",
          "output_type": "stream",
          "text": [
            "10\n",
            "10\n"
          ]
        }
      ],
      "source": [
        "def f(x):\n",
        "    return 2*x\n",
        "\n",
        "g = lambda x: 2*x\n",
        "print(f(5))\n",
        "print(g(5))"
      ]
    },
    {
      "cell_type": "markdown",
      "metadata": {
        "id": "PfhpaCpIVRJ3"
      },
      "source": [
        "Otra de las ventajas que proporcionan es la posibilidad de definir nuevas funciones a partir de otras, pero manteniendo fijos ciertos argumentos. Por ejemplo, en nuestro código definimos la siguiente función:"
      ]
    },
    {
      "cell_type": "code",
      "execution_count": null,
      "metadata": {
        "id": "SO_9QDSvVRJ4"
      },
      "outputs": [],
      "source": [
        "def pot(base, potencia):\n",
        "    return base**potencia"
      ]
    },
    {
      "cell_type": "markdown",
      "metadata": {
        "id": "P7bd2l4xVRJ4"
      },
      "source": [
        "Supongamos ahora que en alguna parte del código necesitamos una nueva función que calcule sólo las potencias de $2$. Aquí puede resultar útil declarar una función anónima:"
      ]
    },
    {
      "cell_type": "code",
      "execution_count": null,
      "metadata": {
        "id": "O63YpHB1VRJ4"
      },
      "outputs": [],
      "source": [
        "g = lambda x: pot(2,x)"
      ]
    },
    {
      "cell_type": "markdown",
      "metadata": {
        "id": "F22kUZI9VRJ5"
      },
      "source": [
        "Ahora `g` es una función. Notar que `2` está fijo, entonces `g` calcula $2^x$. Veámoslo:"
      ]
    },
    {
      "cell_type": "code",
      "execution_count": null,
      "metadata": {
        "colab": {
          "base_uri": "https://localhost:8080/"
        },
        "id": "Qu4EDxNWVRJ5",
        "outputId": "498d7ea5-159a-452e-e65d-5620cc7e417a"
      },
      "outputs": [
        {
          "name": "stdout",
          "output_type": "stream",
          "text": [
            "4\n",
            "16\n",
            "0.5\n"
          ]
        }
      ],
      "source": [
        "print(g(2))\n",
        "print(g(4))\n",
        "print(g(-1))"
      ]
    },
    {
      "cell_type": "markdown",
      "metadata": {
        "id": "iWBGKtN8VRJ5"
      },
      "source": [
        "<a name=\"numpy\"></a>\n",
        "# Librería Numpy\n",
        "\n",
        "Utilizaremos los objetos `array` de la librería `numpy` para trabajar con matrices en Python. Es importante notar que un __`array`es mutable__.\n",
        "\n",
        "La librería numpy se instala con el siguiente comando en la consola:\n",
        "\n",
        "`pip install numpy`\n",
        "\n",
        "Al comienzo de nuestro script en Python importamos la librería `numpy` con el alias `np` (para que sea más rápido escribirlo luego):"
      ]
    },
    {
      "cell_type": "code",
      "execution_count": null,
      "metadata": {
        "id": "qD6xwyYtVRJ6"
      },
      "outputs": [],
      "source": [
        "import numpy as np"
      ]
    },
    {
      "cell_type": "markdown",
      "metadata": {
        "id": "CJlauMa7VRJ7"
      },
      "source": [
        "Una vez hecho eso, podemos empezar a trabajr con _arrays_. Veamos un par de ejemplos.\n",
        "\n",
        "Definimos los vectores $v=(0, 1, -1)$ y $w=(2,1, 3)$."
      ]
    },
    {
      "cell_type": "code",
      "execution_count": null,
      "metadata": {
        "id": "zVOyku_tVRJ7"
      },
      "outputs": [],
      "source": [
        "v = np.array([0, 1, -1])\n",
        "w = np.array([2, 1, 3])"
      ]
    },
    {
      "cell_type": "markdown",
      "metadata": {
        "id": "ylzopbd2VRJ7"
      },
      "source": [
        "Ahora podemos realizar distintas operaciones."
      ]
    },
    {
      "cell_type": "markdown",
      "metadata": {
        "id": "XFmBrZxRVRJ8"
      },
      "source": [
        "__Importante:__ **el operador `*` no realiza el producto interno entre dos vectores o el producto entre dos matrices.**  Utilizaremos `*` sólo cuando querramos multiplicar una matriz o un vector por un escalar, ya que `*` realiza multiplicación elemento a elemento. **Para el producto interno entre vectores, el producto entre matrices y el producto entre un vector y una matriz se utiliza el operador `@`**. A continuación, algunos ejemplos."
      ]
    },
    {
      "cell_type": "code",
      "execution_count": null,
      "metadata": {
        "colab": {
          "base_uri": "https://localhost:8080/"
        },
        "id": "Vka-chJvVRJ8",
        "outputId": "07da2a1f-77de-427f-a902-e76e7f5831c5"
      },
      "outputs": [
        {
          "name": "stdout",
          "output_type": "stream",
          "text": [
            "z = w + v :  [2 2 2]\n",
            "z = v @ w :  -2\n",
            " v + 1 :  [1 2 0]\n",
            " w * 2 :  [4 2 6]\n"
          ]
        }
      ],
      "source": [
        "# Sumamos w y v\n",
        "z = w+v\n",
        "print('z = w + v : ',z)\n",
        "\n",
        "# Realizamos el producto interno entre v y w: z=<v,w>\n",
        "z = v @ w\n",
        "print('z = v @ w : ', z)\n",
        "\n",
        "# Si realizamos operaciones entre vectores y escalares, se interpretan como operaciones lugar a lugar\n",
        "print(' v + 1 : ', v+1)\n",
        "print(' w * 2 : ', w*2)"
      ]
    },
    {
      "cell_type": "markdown",
      "metadata": {
        "id": "TBAj6398VRJ8"
      },
      "source": [
        "Las matrices se definen de manera similar a los vectores, sólo que en vez de estar definidas en base a listas, lo están en base a listas de listas. Definimos la siguiente matriz:\n",
        "$$A =\\left( \\begin{array}{ccc}\n",
        "1 & -3 & 2 \\\\\n",
        "0 & 6 & -2 \\\\\n",
        "4 & 8 & 0 \\\\\n",
        "\\end{array} \\right)\n",
        "$$"
      ]
    },
    {
      "cell_type": "code",
      "execution_count": null,
      "metadata": {
        "id": "U5ol7QnQVRJ9"
      },
      "outputs": [],
      "source": [
        "A = np.array([[1, -3, 2], [0, 6, -2], [4, 8 ,0]]) # Notar que cada una de las listas es una fila"
      ]
    },
    {
      "cell_type": "markdown",
      "metadata": {
        "id": "WlX9bVFzVRJ-"
      },
      "source": [
        "También se pueden realizar operaciones entre matrices o entre matrices y vectores, siempre y cuando las dimensiones sean adecuadas. Lo bueno de definir vectores como _arrarys_ es que no tenemos que preocuparnos por trasponerlos si deseamos multiplicarlos por una matriz:"
      ]
    },
    {
      "cell_type": "code",
      "execution_count": null,
      "metadata": {
        "colab": {
          "base_uri": "https://localhost:8080/"
        },
        "id": "A332TZVuVRJ-",
        "outputId": "139bb49a-8f75-450d-c6f9-22c6c447ec44"
      },
      "outputs": [
        {
          "name": "stdout",
          "output_type": "stream",
          "text": [
            "[-5  8  8]\n"
          ]
        }
      ],
      "source": [
        "b = A @ v\n",
        "print(b)"
      ]
    },
    {
      "cell_type": "markdown",
      "metadata": {
        "id": "ABzu9BjPVRJ_"
      },
      "source": [
        "Recordar que $v=(0, 1, -1)$, sin embargo, para efectuar el cálculo $Av^t$, no necesitamos trasponer `v`."
      ]
    },
    {
      "cell_type": "markdown",
      "metadata": {
        "id": "GfMnZeNwVRJ_"
      },
      "source": [
        "También podemos acceder a elementos de un _array_. Si se trata de un vector, accedemos a un elemento como lo haríamos si se tratara de una lista, es decir, con `[ ]`."
      ]
    },
    {
      "cell_type": "code",
      "execution_count": null,
      "metadata": {
        "colab": {
          "base_uri": "https://localhost:8080/"
        },
        "id": "d9FDk3sAVRJ_",
        "outputId": "b7679dc1-dd32-4f0f-825c-c9a3f333f14b"
      },
      "outputs": [
        {
          "name": "stdout",
          "output_type": "stream",
          "text": [
            "Segunda coordenada de v :  1\n",
            "Primera coordenada de w :  2\n"
          ]
        }
      ],
      "source": [
        "print('Segunda coordenada de v : ', v[1])\n",
        "print('Primera coordenada de w : ', w[0])"
      ]
    },
    {
      "cell_type": "markdown",
      "metadata": {
        "id": "MGfhYhXzVRJ_"
      },
      "source": [
        "En el caso de las matrices, la sintaxis es `[fila, columna]`. Por ejemplo, `A[0,1]` es $A_{1 2}$.\n",
        "\n",
        "Como en el caso de las listas, también podemos utilizar _slices_ para obtener partes de la matriz o vector. Por ejemplo:\n",
        "* si nos queremos quedar con la primera fila de `A`, lo hacemos de la siguiente manera: `A[0, :]`\n",
        "* si queremos la submatriz formada por las últimas dos filas y últimas dos columnas: `A[-2:, -2:]`\n",
        "* si queremos la segunda columna de: `A[:, 1]`"
      ]
    },
    {
      "cell_type": "markdown",
      "metadata": {
        "id": "cUoTonuTVRJ_"
      },
      "source": [
        "<a name=\"numpycoms\"></a>\n",
        "### Comandos útiles para arrays\n",
        "\n",
        "* el atributo `shape` nos devuelve las dimensiones del array: `A.shape` devuelve la tupla `(3, 3)`. Así, si queremos la cantidad de filas de una matriz, usamos `A.shape[0]` y si queremos la cantidad de columnas, `A.shape[1]`. En el caso de los arrays que representan vectores, `shape` devuelve una tupla de un solo elemento, que representa la longitud del vector."
      ]
    },
    {
      "cell_type": "code",
      "execution_count": null,
      "metadata": {
        "colab": {
          "base_uri": "https://localhost:8080/"
        },
        "id": "fpADTFUDVRKA",
        "outputId": "9c86593a-9d2f-4795-e163-bf5edc51bf0a"
      },
      "outputs": [
        {
          "data": {
            "text/plain": [
              "(2, 3)"
            ]
          },
          "execution_count": 29,
          "metadata": {},
          "output_type": "execute_result"
        }
      ],
      "source": [
        "A = np.array([[1, 2, 3],\n",
        "              [0, 0, 1]])\n",
        "np.shape(A)"
      ]
    },
    {
      "cell_type": "markdown",
      "metadata": {
        "id": "7AsSJivtVRKA"
      },
      "source": [
        "* el atributo `T` permite trasponer la matriz. No modifica la matriz original. Por ejemplo, si queremos calcular $A^tA$ basta escribir `A.T @ A`."
      ]
    },
    {
      "cell_type": "code",
      "execution_count": null,
      "metadata": {
        "colab": {
          "base_uri": "https://localhost:8080/"
        },
        "id": "4GgCdRpSVRKA",
        "outputId": "20dc1992-61f0-4307-bbad-760db09f14da"
      },
      "outputs": [
        {
          "data": {
            "text/plain": [
              "array([[1, 0],\n",
              "       [2, 0],\n",
              "       [3, 1]])"
            ]
          },
          "execution_count": 30,
          "metadata": {},
          "output_type": "execute_result"
        }
      ],
      "source": [
        "A = np.array([[1, 2, 3],\n",
        "              [0, 0, 1]])\n",
        "A.T"
      ]
    },
    {
      "cell_type": "markdown",
      "metadata": {
        "id": "SGezT7Q0VRKB"
      },
      "source": [
        "* el comando `zeros` permite inicializar una matriz o vector nulo (con $0$ en todas sus coordenadas). Hay que pasarle las dimensiones como input. Por ejemplo, `np.zeros((4,3))` devuelve la matriz nula de $4\\times 3$ y `np.zeros(A.shape)` devuelve una matriz nula del mismo tamaño que `A`."
      ]
    },
    {
      "cell_type": "code",
      "execution_count": null,
      "metadata": {
        "colab": {
          "base_uri": "https://localhost:8080/"
        },
        "id": "-DWQMemJVRKB",
        "outputId": "a6f80ee9-b76d-45f0-dcac-4d0db21ce8f7"
      },
      "outputs": [
        {
          "data": {
            "text/plain": [
              "array([[0., 0., 0., 0., 0.],\n",
              "       [0., 0., 0., 0., 0.],\n",
              "       [0., 0., 0., 0., 0.],\n",
              "       [0., 0., 0., 0., 0.],\n",
              "       [0., 0., 0., 0., 0.]])"
            ]
          },
          "execution_count": 31,
          "metadata": {},
          "output_type": "execute_result"
        }
      ],
      "source": [
        "N = np.zeros((5,5))\n",
        "N"
      ]
    },
    {
      "cell_type": "markdown",
      "metadata": {
        "id": "M-AcHy3kVRKC"
      },
      "source": [
        "* el comando `ones` es análogo a `zeros`, sólo que devuelve una matriz con 1 en todas sus filas y columnas."
      ]
    },
    {
      "cell_type": "code",
      "execution_count": null,
      "metadata": {
        "colab": {
          "base_uri": "https://localhost:8080/"
        },
        "id": "WMzTl42JVRKC",
        "outputId": "242c2a4e-b4d2-4ed9-8302-c5a4701e9881"
      },
      "outputs": [
        {
          "data": {
            "text/plain": [
              "array([[1., 1., 1.],\n",
              "       [1., 1., 1.],\n",
              "       [1., 1., 1.]])"
            ]
          },
          "execution_count": 32,
          "metadata": {},
          "output_type": "execute_result"
        }
      ],
      "source": [
        "O = np.ones((3,3))\n",
        "O"
      ]
    },
    {
      "cell_type": "markdown",
      "metadata": {
        "id": "W7iIekr9VRKD"
      },
      "source": [
        "* el comando `eye` nos permite crear la matriz identidad. Como genera una matriz cuadrada, sólo requiere un entero como input."
      ]
    },
    {
      "cell_type": "code",
      "execution_count": null,
      "metadata": {
        "colab": {
          "base_uri": "https://localhost:8080/"
        },
        "id": "Q-AyJ3OUVRKD",
        "outputId": "a1b975bf-602f-4185-896a-ed6e657dd7e9"
      },
      "outputs": [
        {
          "data": {
            "text/plain": [
              "array([[1., 0., 0.],\n",
              "       [0., 1., 0.],\n",
              "       [0., 0., 1.]])"
            ]
          },
          "execution_count": 33,
          "metadata": {},
          "output_type": "execute_result"
        }
      ],
      "source": [
        "I = np.eye(3)\n",
        "I"
      ]
    },
    {
      "cell_type": "markdown",
      "metadata": {
        "id": "FjCpMogzVRKD"
      },
      "source": [
        "* el comando `arange` permite generar un vector que contiene a todos los números en un determinado rango. La sintaxis es `np.arange(inicio, fin, paso)` donde `fin`no está incluido y `paso` es optativo (el valor por defecto es 1)."
      ]
    },
    {
      "cell_type": "code",
      "execution_count": null,
      "metadata": {
        "colab": {
          "base_uri": "https://localhost:8080/"
        },
        "id": "USGaab5tVRKE",
        "outputId": "cae3b1d1-0968-4e9d-fd8d-cea557a43321"
      },
      "outputs": [
        {
          "data": {
            "text/plain": [
              "array([0, 2, 4, 6, 8])"
            ]
          },
          "execution_count": 34,
          "metadata": {},
          "output_type": "execute_result"
        }
      ],
      "source": [
        "u = np.arange(0,10,2)\n",
        "u"
      ]
    },
    {
      "cell_type": "markdown",
      "metadata": {
        "id": "rGWTTE0hVRKE"
      },
      "source": [
        "* el comando `random.random` nos permite generar una matriz aleatoria de un determinado tamaño. Toma como input una tupla con el tamaño de la matriz. Por ejemplo, `np.random.random((3,4))` devuelve una matriz de $3\\times 4$ y `np.random.random(A.shape)` devuelve una matriz aleatoria con el mismo tamaño que `A`. Los valores aleatorios se encuentran en el intervalo $[0,1)$\n",
        "* recordar que los array son _mutables_. El comando `copy` nos permite crear la copia de un array. Por ejemplo, si queremos crear `B` una copia de `A`, lo hacemos de la siguiente manera: `B = A.copy()`\n",
        "\n",
        "* el paquete `linalg` de `numpy` tiene algunas funciones que nos serán de utilidad. Por ejemplo, si deseamos importar la función `norm` de `linalg`, que sirve para calcular la norma de un vector o una matriz, escribimos al comienzo del script: `from numpy.linalg import norm` Luego, si queremos calcular la norma de `v`, basta con escribir `norm(v)`"
      ]
    },
    {
      "cell_type": "markdown",
      "metadata": {
        "id": "WeClL3-uVRKE"
      },
      "source": [
        "## Ejercicio\n",
        "\n",
        "Sean:\n",
        "$$A = \\left( \\begin{array}{ccc} 1 & 0 & -1 \\\\ 2 & 1 & 3 \\\\ 0 & 1 & -1 \\end{array} \\right)\n",
        "\\qquad B = \\left( \\begin{array}{ccc} 0 & -2 & 1 \\\\ 3 & -1 & 0 \\\\ 2 & 0 & -1 \\end{array} \\right)\n",
        "\\qquad v = (-1, 4, -2)$$\n",
        "Computar en Python la siguiente operación:\n",
        "$A^tA^2v^t+ BAv^t + <v, A_{1 \\cdot}>v^t$ siendo $A_{1 \\cdot}$ la primera fila de $A$\n",
        "\n",
        "__Respuesta:__ $(40, 17, 57)$"
      ]
    },
    {
      "cell_type": "code",
      "execution_count": null,
      "metadata": {
        "colab": {
          "base_uri": "https://localhost:8080/"
        },
        "id": "MKPqkrhbVRKE",
        "outputId": "e984bd8a-84de-45d7-fb39-a2e3ba6a7f7e"
      },
      "outputs": [
        {
          "name": "stdout",
          "output_type": "stream",
          "text": [
            "result: [40 17 57]\n"
          ]
        }
      ],
      "source": [
        "A = np.array([[1,0,-1], [2,1,3], [0,1,-1]])\n",
        "B = np.array([[0,-2,1], [3,-1,0], [2,0,-1]])\n",
        "v = np.array([-1,4,-2])\n",
        "\n",
        "# Transpose of A\n",
        "A_t = A.T\n",
        "\n",
        "# Calculating A^2\n",
        "A_squared = np.dot(A, A)\n",
        "\n",
        "# Calculating A^t A^2 v^t\n",
        "result1 = np.dot(A_t, np.dot(A_squared, v))\n",
        "\n",
        "# Calculating B A v^t\n",
        "result2 = np.dot(B, np.dot(A, v))\n",
        "\n",
        "# Calculating <v, A_1·> v^t, where A_1· is the first row of A\n",
        "A_1_row = A[0, :]\n",
        "inner_product = np.dot(v, A_1_row)\n",
        "result3 = inner_product * v\n",
        "\n",
        "# Summing the results\n",
        "result = result1 + result2 + result3\n",
        "print('result:', result)"
      ]
    },
    {
      "cell_type": "markdown",
      "metadata": {
        "id": "rHbAM359VRKF"
      },
      "source": [
        "<a name=\"ders\"></a>\n",
        "# Derivadas para una función en una variable"
      ]
    },
    {
      "cell_type": "markdown",
      "metadata": {
        "id": "ygdIY3fOVRKF"
      },
      "source": [
        "### Método forward\n",
        "\n",
        "Dados $f\\in C^2$ y $h>0$, desarrollando Taylor centrado en $x$ tenemos que:\n",
        "$$f(x+h)=f(x) + f'(x)h + \\color{red}{\\dfrac{f''(\\xi)h^2}{2}} \\qquad \\xi\\in(x,x+h)$$\n",
        "$$\\begin{array}{rll}\\Rightarrow f'(x) & = & \\dfrac{f(x+h)-f(x)}{h} - \\color{red}{\\dfrac{f''(\\xi)h}{2}} \\\\ & = & \\dfrac{f(x+h)-f(x)}{h} - \\color{red}{O(h)} \\end{array}$$"
      ]
    },
    {
      "cell_type": "markdown",
      "metadata": {
        "id": "Zd-zATMKVRKG"
      },
      "source": [
        "Luego, $f'(x)$ puede aproximarse como:\n",
        "$$f'(x) \\approx \\dfrac{f(x+h)-f(x)}{h}$$"
      ]
    },
    {
      "cell_type": "markdown",
      "metadata": {
        "id": "X_O-ciGoVRKG"
      },
      "source": [
        "### Método Backward\n",
        "\n",
        "Análogo al método forward. Dados $f\\in C^2$ y $h>0$, desarrollando Taylor centrado en $x$ tenemos que:\n",
        "$$f(x-h)=f(x) - f'(x)h + \\color{red}{\\dfrac{f''(\\xi)h^2}{2}} \\qquad \\xi\\in(x-h,x)$$\n",
        "$$\\begin{array}{rll}\\Rightarrow f'(x) & = & \\dfrac{f(x)-f(x-h)}{h} + \\color{red}{\\dfrac{f''(\\xi)h}{2}} \\\\ & = & \\dfrac{f(x)-f(x-h)}{h} + \\color{red}{O(h)} \\end{array}$$"
      ]
    },
    {
      "cell_type": "markdown",
      "metadata": {
        "id": "Uf157IU9VRKG"
      },
      "source": [
        "Luego, $f'(x)$ puede aproximarse como:\n",
        "$$f'(x) \\approx \\dfrac{f(x)-f(x-h)}{h}$$"
      ]
    },
    {
      "cell_type": "markdown",
      "metadata": {
        "id": "yx9sCl3XVRKH"
      },
      "source": [
        "### Método de centradas\n",
        "\n",
        "Dados $f\\in C^3$ y $h>0$, desarrollando Taylor centrado en $x$ tenemos que:\n",
        "$$f(x+h)=f(x) + f'(x)h + \\dfrac{f''(x)h^2}{2} + \\color{red}{\\dfrac{f'''(\\xi)h^3}{6}} \\qquad \\xi\\in(x,x+h)$$\n",
        "$$f(x-h)=f(x) - f'(x)h + \\dfrac{f''(x)h^2}{2} - \\color{red}{\\dfrac{f'''(\\eta)h^3}{6}} \\qquad \\eta\\in(x-h,x)$$\n",
        "Restando ambas expresiones, obtenemos que:\n",
        "$$f(x+h)-f(x-h) = 2f'(x)h+\\color{red}{\\dfrac{(f'''(\\xi)+f'''(\\eta))h^3}{6}}$$\n",
        "$$\\begin{array}{rll}\\Rightarrow f'(x) & = & \\dfrac{f(x+h)-f(x-h)}{2h} + \\color{red}{\\dfrac{(f'''(\\xi)+f'''(\\eta))h^2}{12}} \\\\ & = & \\dfrac{f(x+h)-f(x-h)}{2h} + \\color{red}{O(h^2)} \\end{array}$$"
      ]
    },
    {
      "cell_type": "markdown",
      "metadata": {
        "id": "UJYZLUsiVRKH"
      },
      "source": [
        "Luego, $f'(x)$ puede aproximarse como:\n",
        "$$f'(x) \\approx \\dfrac{f(x+h)-f(x-h)}{2h}$$"
      ]
    },
    {
      "cell_type": "markdown",
      "metadata": {
        "id": "otbN-WqfVRKH"
      },
      "source": [
        "## Ejercicio\n",
        "\n",
        "1. Implementar una función en Python que aproxime la derivada de una función en una variable, para cada uno de los métodos. La función en Python debe tomar como input:\n",
        "* `f` una función de una variable\n",
        "* `x` el punto donde se calcula la derivada\n",
        "* `h` como input opcional, con valor predeterminado de 0.01\n",
        "\n",
        "2. Para $f(x)=2x^3$, correr alguna de las funciones del punto anterior para aproximar $f'(1)$ para distintos valores de $h$. Comenzar con $h=0.1$ y sucesivamente ir dividiendo el valor de $h$ por $10$ hasta que $h<10^{-20}$. Imprimir en pantalla el resultado para cada valor de $h$. ¿Qué se observa? ¿Por qué sucede?\n",
        "\n"
      ]
    },
    {
      "cell_type": "code",
      "execution_count": null,
      "metadata": {
        "id": "l5jdpiO6VRKH"
      },
      "outputs": [],
      "source": [
        "def aproximacion_derivada(f, x, h=0.01, metodo = 'central'):\n",
        "  if metodo == 'farward':\n",
        "    res = (f(x+h) - f(x)) / h\n",
        "\n",
        "  elif metodo == 'backward':\n",
        "    res = (f(x) - f(x-h)) / h\n",
        "\n",
        "  elif metodo == 'central':\n",
        "    res = (f(x+h) - f(x-h)) / (2*h)\n",
        "\n",
        "  return res\n"
      ]
    },
    {
      "cell_type": "code",
      "execution_count": null,
      "metadata": {
        "colab": {
          "base_uri": "https://localhost:8080/"
        },
        "id": "OJVt_y0ALzxS",
        "outputId": "adea1957-0b87-49ab-9e24-f0396bf9d1c6"
      },
      "outputs": [
        {
          "name": "stdout",
          "output_type": "stream",
          "text": [
            "6.020000000000003\n",
            "6.000200000000011\n",
            "6.000001999999727\n",
            "6.000000019998897\n",
            "6.000000000194738\n",
            "5.999999999839467\n",
            "6.000000000172533\n",
            "5.999999985739635\n",
            "6.000000163375319\n",
            "6.000000496442226\n",
            "6.000000496442225\n",
            "6.0002003365866585\n",
            "5.998535002049721\n",
            "5.995204332975845\n",
            "6.328271240363391\n",
            "3.330669073875469\n",
            "0.0\n",
            "0.0\n",
            "0.0\n",
            "0.0\n",
            "0.0\n",
            "0.0\n"
          ]
        }
      ],
      "source": [
        "def f(x):\n",
        "  return 2*(x**3)\n",
        "\n",
        "aprox_1 = print(aproximacion_derivada(f, 1, 0.1))\n",
        "aprox_2 = print(aproximacion_derivada(f, 1, 0.1/10))\n",
        "aprox_3 = print(aproximacion_derivada(f, 1, 0.1 / (10**2)))\n",
        "aprox_4 = print(aproximacion_derivada(f, 1, 0.1 / (10**3)))\n",
        "aprox_5 = print(aproximacion_derivada(f, 1, 0.1 / (10**4)))\n",
        "aprox_6 = print(aproximacion_derivada(f, 1, 0.1 / (10**5)))\n",
        "aprox_7 = print(aproximacion_derivada(f, 1, 0.1 / (10**6)))\n",
        "aprox_8 = print(aproximacion_derivada(f, 1, 0.1 / (10**7)))\n",
        "aprox_9 = print(aproximacion_derivada(f, 1, 0.1 / (10**8)))\n",
        "aprox_10 = print(aproximacion_derivada(f, 1, 0.1 / (10**9)))\n",
        "aprox_11 = print(aproximacion_derivada(f, 1, 0.1 / (10**10)))\n",
        "aprox_12 = print(aproximacion_derivada(f, 1, 0.1 / (10**11)))\n",
        "aprox_13 = print(aproximacion_derivada(f, 1, 0.1 / (10**12)))\n",
        "aprox_14 = print(aproximacion_derivada(f, 1, 0.1 / (10**13)))\n",
        "aprox_15 = print(aproximacion_derivada(f, 1, 0.1 / (10**14)))\n",
        "aprox_16 = print(aproximacion_derivada(f, 1, 0.1 / (10**15)))\n",
        "aprox_17 = print(aproximacion_derivada(f, 1, 0.1 / (10**16))) #\n",
        "aprox_18 = print(aproximacion_derivada(f, 1, 0.1 / (10**17)))\n",
        "aprox_19 = print(aproximacion_derivada(f, 1, 0.1 / (10**18)))\n",
        "aprox_20 = print(aproximacion_derivada(f, 1, 0.1 / (10**19)))  # h = 10*(-20)\n",
        "aprox_21 = print(aproximacion_derivada(f, 1, 0.1 / (10**20)))  # h < 10*(-20)\n",
        "\n",
        "\n",
        "aprox_31 = print(aproximacion_derivada(f, 1, 0.1 / (10**30)))"
      ]
    },
    {
      "cell_type": "markdown",
      "metadata": {
        "id": "Wnljo9hYVRKI"
      },
      "source": [
        "# Derivadas parciales y gradiente para $f: \\mathbb{R}^n \\rightarrow \\mathbb{R}$"
      ]
    },
    {
      "cell_type": "markdown",
      "metadata": {
        "id": "VzgAWbzEVRKI"
      },
      "source": [
        "### Derivadas parciales\n",
        "\n",
        "Sean $f\\colon\\mathbb{R}^n\\rightarrow \\mathbb{R}$, $f\\in C^1$, $h>0$, podemos usar las ideas proporcionadas por los métodos antes vistos para calcular las derivadas parciales. Veamos, por ejemplo, cómo aplicar el método de centradas para aproximar la derivada parcial con respecto a $x_i$:\n",
        "$$\\dfrac{\\partial f}{\\partial x_i}(x) \\approx \\dfrac{f(x+he_i)-f(x-he_i)}{2h}$$\n",
        "donde $e_i$ es el $i$-ésimo vector canónico.\n",
        "\n",
        "### Gradiente\n",
        "\n",
        "Una vez que tenemos las aproximaciones de las derivadas parciales, calcular el gradiente de $f$ es trivial, teniendo en cuenta que:\n",
        "$$\\nabla f (x) = \\left(\\dfrac{\\partial f}{\\partial x_1}(x), \\dots, \\dfrac{\\partial f}{\\partial x_n}(x)\\right) $$"
      ]
    },
    {
      "cell_type": "markdown",
      "metadata": {
        "id": "RtIMamDxVRKI"
      },
      "source": [
        "* En el caso de la aproximación de las derivadas parciales, es interesante recalcularlas para distintos $h$ y en cierta manera asegurar una buena aproximación. Es decir, vamos achicando el $h$ hasta que los resultados sean muy parecidos (o iguales) o hasta que la división no esté definida"
      ]
    },
    {
      "cell_type": "code",
      "execution_count": null,
      "metadata": {
        "id": "m732aEVfVRKI"
      },
      "outputs": [],
      "source": [
        "from numpy.linalg import norm\n",
        "\n",
        "def derivada_parcial(f,x,i):\n",
        "    h = 0.1\n",
        "    e_i = np.zeros(len(x))  # COMPLETAR: i-esimo vector canonico\n",
        "    e_i[i] = 1\n",
        "    z = (f(x + h*e_i) - f(x - h*e_i)) / (2*h)  # COMPLETAR: formula del metodo\n",
        "    # z representa la primera aproximación a la derivada parcial de f en x con respecto a la i-ésima variable\n",
        "    h = h/2\n",
        "    y = (f(x + h*e_i) - f(x - h*e_i)) / (2*h)  # COMPLETAR: formula del metodo\n",
        "    # Se reduce el valor de h a la mitad, luego se calcula y nuevamente con esta reducción de paso para refinar la estimación\n",
        "    error = norm(y-z)\n",
        "    eps = 1e-8\n",
        "    while error>eps and (y != np.nan) and (y != np.inf):\n",
        "        error = norm(y-z)\n",
        "        z = y\n",
        "        h = h/2\n",
        "        y = (f(x + h*e_i) - f(x - h*e_i)) / (2*h)  # COMPLETAR: formula del metodo\n",
        "        # En cada iteración, el valor de h se reduce a la mitad, y y se vuelve a calcular. La nueva estimación se guarda en z, y el error se vuelve a calcular\n",
        "    return z # z es la mejor aproximación obtenida"
      ]
    },
    {
      "cell_type": "markdown",
      "metadata": {
        "id": "-fCCinQiVRKJ"
      },
      "source": [
        "## Ejercicio\n",
        "\n",
        "1. Implementar la función `derivada_parcial` completando el template anterior.\n",
        "2. Implementar la función `gradiente` que tome como input a una función `f` y al punto en cual se calcula el gradiente `x`."
      ]
    },
    {
      "cell_type": "code",
      "execution_count": null,
      "metadata": {
        "colab": {
          "base_uri": "https://localhost:8080/"
        },
        "id": "5TfgDfy6rr0l",
        "outputId": "5bc00dbb-5258-42ae-f4ed-798e46ead9c6"
      },
      "outputs": [
        {
          "name": "stdout",
          "output_type": "stream",
          "text": [
            "[1.00000000e+00 2.38418579e-09]\n"
          ]
        }
      ],
      "source": [
        "#def gradiente(f, x):\n",
        "#  res = []\n",
        "  # for i in x: mal, ya que i toma los valores de los elementos de x, no los índices de sus posiciones\n",
        "  # for i in x.shape: mal, x.shape es una tupla que representa las dimensiones del array x, ej (3,) para vector de 3 eltos\n",
        "#  for i in range(x.shape): # i toma valores desde 0 hasta la longitud de x - 1\n",
        "#    res.append(derivada_parcial(f, x, i))\n",
        "    # la asignación res[i] provocará un error, ya que res es una lista vacía.\n",
        "#  return res\n",
        "\n",
        "def gradiente(f, x):\n",
        "    return np.array([derivada_parcial(f, x, i) for i in range(len(x))])\n",
        "\n",
        "def prueba(x):\n",
        "  x1, x2 = x\n",
        "  return x1 + x2 ** 3\n",
        "\n",
        "x0 = np.array([0,0])\n",
        "print(gradiente(prueba, x0)) # espero [1,0]"
      ]
    },
    {
      "cell_type": "markdown",
      "metadata": {
        "id": "kRoeUgJqXpNF"
      },
      "source": [
        "### Algoritmos de descenso"
      ]
    },
    {
      "cell_type": "markdown",
      "metadata": {
        "id": "lmk3Ejz7XsFM"
      },
      "source": [
        "_Idea_: a partir de un punto obtenido, escoger una dirección para dar el próximo paso\n",
        "\n",
        "__Definición (dirección de descenso)__: sean $f:\\mathbb{R}^n \\rightarrow \\mathbb{R}$, $\\bar{x}\\in\\mathbb{R}^n$ y $d\\in\\mathbb{R}^n-\\{0\\}$, diremos que $d$ es una dirección de descenso para $f$ a partir de $\\bar{x}$ si existe $\\delta>0$ tal que $f(\\bar{x}+td)<f(\\bar{x}) \\quad \\forall t\\in(0,\\delta)$\n",
        "\n",
        "__Teorema__: Si $\\nabla f(\\bar{x})d < 0$, entonces $d$ es dirección de descenso para $f$ a partir de $\\bar{x}$"
      ]
    },
    {
      "cell_type": "markdown",
      "metadata": {
        "id": "PJziTSEtXupY"
      },
      "source": [
        "### __Algoritmo de descenso básico__\n",
        "\n",
        "Dados: $f,\\; x_0 \\in \\mathbb{R}^n,\\; \\varepsilon>0,\\; k_{MAX}>0$ <br>\n",
        "k = 0 <br>\n",
        "REPETIR mientras $\\nabla f(x_k) > \\varepsilon$ y $k<k_{MAX}$ : <br>\n",
        "&nbsp;&nbsp;&nbsp;&nbsp; Calcular $d_k$ tal que $\\nabla f(x_k)^Td_k < 0$ <br>\n",
        "&nbsp;&nbsp;&nbsp;&nbsp; Escoger $t_k=1$ <br>\n",
        "&nbsp;&nbsp;&nbsp;&nbsp; Mientras $f(x_k+t_kd_k)>f(x_k):$ <br>\n",
        "&nbsp;&nbsp;&nbsp;&nbsp;&nbsp;&nbsp;&nbsp;&nbsp; $t_k= t_k/2$ <br>\n",
        "&nbsp;&nbsp;&nbsp;&nbsp; Hacer $x_{k+1}=x_k + t_kd_k$ <br>\n",
        "&nbsp;&nbsp;&nbsp;&nbsp; $k = k+1$"
      ]
    },
    {
      "cell_type": "markdown",
      "metadata": {
        "id": "UA1_Vnu_nx1E"
      },
      "source": [
        "### Problema 1: Implementar el Método de direcciones de descenso con:"
      ]
    },
    {
      "cell_type": "markdown",
      "metadata": {
        "id": "mpfEPSx5tv4g"
      },
      "source": [
        "#### i) La función objetivo es\n",
        "\n",
        "$$\n",
        "f(x_1, x_2) = \\frac{x_1^2}{10^{2i}} + x_2^2 \\quad \\text{para } i = 0, 1, 2, 4\n",
        "$$\n",
        "\n",
        "con $x_0 = (10^{i/2}, 1$) .\n",
        "\n",
        "La solución es $x = (0, 0) $ ."
      ]
    },
    {
      "cell_type": "code",
      "execution_count": null,
      "metadata": {
        "id": "tGITqJY9tZPP"
      },
      "outputs": [],
      "source": [
        "def funcion_objetivo(x, i):\n",
        "    x1, x2 = x\n",
        "    return (x1**2) / (10**(2 * i)) + x2**2\n",
        "\n",
        "def matriz_de_rotacion(theta):\n",
        "    return np.array([[np.cos(theta), -np.sin(theta)], [np.sin(theta), np.cos(theta)]])\n",
        "\n",
        "\n",
        "def metodo_direccion_descenso(f, x0, thetha=0, eps=1e-4, k_max=1000):\n",
        "  x_k = np.array(x0)\n",
        "  puntos_xk = [x_k.copy()]  # Almaceno el punto inicial\n",
        "  k = 0\n",
        "  while  norm(gradiente(f, x_k)) > eps  and  k < k_max:\n",
        "     d_k = np.dot(matriz_de_rotacion(thetha), - gradiente(f, x_k))\n",
        "     t_k = 1\n",
        "     while  f(x_k + t_k*d_k) > f(x_k):\n",
        "          t_k = t_k/2\n",
        "\n",
        "     x_k = x_k + t_k*d_k\n",
        "     puntos_xk.append(x_k.copy())  # Almaceno el punto x_k actual\n",
        "     k = k+1\n",
        "  return x_k, f(x_k), k, puntos_xk   # devuelve el punto mínimo, el valor de f, y las iteraciones realizadas\n",
        "\n",
        "#Ejecuto el metodo para diferentes valores de i\n",
        "#for i in [0, 1, 2, 4]:\n",
        "#    x0 = [10**(i / 2), 1]  # punto inicial para cada i\n",
        "    #print(metodo_direccion_descenso(lambda x: funcion_objetivo(x, i), x0))\n",
        "#    min_x, min_f, iteraciones = metodo_direccion_descenso(lambda x: funcion_objetivo(x, i), x0)\n",
        "#    print(f\"Para i={i}: Mínimo aproximado en {min_x}, valor de f es ={min_f}, cantidad iteraciones={iteraciones}\")"
      ]
    },
    {
      "cell_type": "code",
      "execution_count": null,
      "metadata": {
        "colab": {
          "base_uri": "https://localhost:8080/",
          "height": 1000
        },
        "id": "Pf9wx_LEpjhA",
        "outputId": "c1e8a8b9-290f-410d-a1b5-686e5c74e26b"
      },
      "outputs": [
        {
          "name": "stdout",
          "output_type": "stream",
          "text": [
            "Para i=0: Mínimo aproximado en [2.22044605e-16 2.22044605e-16], valor de f es =9.860761315262648e-32, cantidad iteraciones=2\n"
          ]
        },
        {
          "data": {
            "image/png": "[encoded data removed]",
            "text/plain": [
              "<Figure size 640x480 with 1 Axes>"
            ]
          },
          "metadata": {},
          "output_type": "display_data"
        },
        {
          "name": "stdout",
          "output_type": "stream",
          "text": [
            "Para i=1: Mínimo aproximado en [2.39999287e-06 6.66133815e-16], valor de f es =5.759965793611301e-14, cantidad iteraciones=698\n"
          ]
        },
        {
          "data": {
            "image/png": "[encoded data removed]",
            "text/plain": [
              "<Figure size 640x480 with 1 Axes>"
            ]
          },
          "metadata": {},
          "output_type": "display_data"
        },
        {
          "name": "stdout",
          "output_type": "stream",
          "text": [
            "Para i=2: Mínimo aproximado en [8.18714376 1.        ], valor de f es =1.0067029323027508, cantidad iteraciones=1000\n"
          ]
        },
        {
          "data": {
            "image/png": "[encoded data removed]",
            "text/plain": [
              "<Figure size 640x480 with 1 Axes>"
            ]
          },
          "metadata": {},
          "output_type": "display_data"
        },
        {
          "name": "stdout",
          "output_type": "stream",
          "text": [
            "Para i=4: Mínimo aproximado en [99.99800002  1.        ], valor de f es =1.0000999960008528, cantidad iteraciones=1000\n"
          ]
        },
        {
          "data": {
            "image/png": "[encoded data removed]",
            "text/plain": [
              "<Figure size 640x480 with 1 Axes>"
            ]
          },
          "metadata": {},
          "output_type": "display_data"
        }
      ],
      "source": [
        "import matplotlib.pyplot as plt\n",
        "\n",
        "%matplotlib inline\n",
        "\n",
        "def curvas_nivel(f, limites, puntos_xk, i, levels=20):\n",
        "    \"\"\"\n",
        "    Función que grafica curvas de nivel.\n",
        "    f : es la función a graficar (tiene que ir de R2 en R)\n",
        "    limites: es una lista o tupla de números: [a,b,c,d]. Va a graficar la función en el cuadrado [a,b] x [c,d]\n",
        "    levels : cantidad de curvas de nivel a graficar\n",
        "    \"\"\"\n",
        "    plt.figure()\n",
        "    x = np.linspace(limites[0], limites[1], 1000)\n",
        "    y = np.linspace(limites[2], limites[3], 1000)\n",
        "    X, Y = np.meshgrid(x, y)\n",
        "    Z = funcion_objetivo((X, Y), i)\n",
        "\n",
        "    plt.contour(X,Y,Z, cmap='plasma', levels=levels)\n",
        "    puntos_xk = np.array(puntos_xk)\n",
        "    plt.plot(puntos_xk[:, 0], puntos_xk[:, 1], 'o-', color='red', label='Trayectoria $x_k$')\n",
        "    #plt.scatter([puntos_xk[0, 0]], [puntos_xk[0, 1]], color='blue', label='Punto inicial', s=50)\n",
        "    #plt.scatter([puntos_xk[-1, 0]], [puntos_xk[-1, 1]], color='green', label='Mínimo aproximado', s=50)\n",
        "    plt.title(f'Curvas de nivel y trayectoria de $x_k$ para i={i}')\n",
        "    plt.show()\n",
        "\n",
        "for i in [0,1,2,4]:\n",
        "  x0 = [10**(i / 2), 1]\n",
        "  min_x, min_f, iteraciones, puntos_xk = metodo_direccion_descenso(lambda x: funcion_objetivo(x, i), x0)\n",
        "  print(f\"Para i={i}: Mínimo aproximado en {min_x}, valor de f es ={min_f}, cantidad iteraciones={iteraciones}\")\n",
        "  curvas_nivel(lambda x: funcion_objetivo(x, i), (-3, 3, -3, 3), puntos_xk, i)\n",
        "\n",
        "  #Graf 1: Converge a 0\n",
        "  #Graf 2: Converge a 0 mas lentamente\n",
        "  #Graf 3: Converge a 0 mucho mas lento que antes, si le aumentamos la cantidad de iteraciones se va a acercar mas al (0,0)\n",
        "  #Graf 4: Converge a 0 muchisimo mas lento, casi ni se nota"
      ]
    },
    {
      "cell_type": "markdown",
      "metadata": {
        "id": "RFY7spGvuvw9"
      },
      "source": [
        "#### ii) Condición del ángulo\n",
        "\n",
        "$$\n",
        "\\cos(\\angle (\\nabla f(x_k), d_k)) = -1, -\\frac{3}{4}, -\\frac{1}{2}, -\\frac{1}{4}\n",
        "$$"
      ]
    },
    {
      "cell_type": "code",
      "execution_count": null,
      "metadata": {
        "colab": {
          "base_uri": "https://localhost:8080/"
        },
        "id": "nua98sdYuwXz",
        "outputId": "12cdc39a-b36b-421d-a908-532846054c6c"
      },
      "outputs": [
        {
          "name": "stdout",
          "output_type": "stream",
          "text": [
            "[-2. -2.]\n",
            "[-2. -2.]\n",
            "[-2.73205081  0.73205081]\n",
            "[-2. -2.]\n",
            "[-0.06324555 -2.        ]\n",
            "[-0.06324555 -2.        ]\n",
            "[-1.76367358 -0.94522774]\n",
            "[-0.06324555 -2.        ]\n",
            "[-0.002 -2.   ]\n",
            "[-0.002 -2.   ]\n",
            "[-1.73305081 -0.99826795]\n",
            "[-0.002 -2.   ]\n",
            "[-2.e-06 -2.e+00]\n",
            "[-2.e-06 -2.e+00]\n",
            "[-1.73205181 -0.99999827]\n",
            "[-2.e-06 -2.e+00]\n"
          ]
        }
      ],
      "source": [
        "#Tengo que armarme una matriz de rotacion adecuada para el ejc 1, y aca ir editandola para cada uno de los valores dados\n",
        "\n",
        "for i in [0, 1, 2, 4]:\n",
        "  x0 = [10**(i / 2), 1]  # punto inicial para cada i\n",
        "  direcciones = []\n",
        "  for thetha in [np.pi, np.pi, 2*np.pi/3, np.pi]: #arccos(-1) = pi, arccos(-3/4) =      , arccos(-1/2) = 2*pi/3, arccos(-1/4) =\n",
        "    d_k = np.dot(matriz_de_rotacion(thetha), gradiente(lambda x: funcion_objetivo(x, i), x0))\n",
        "    direcciones.append(d_k)\n",
        "  for d in direcciones:\n",
        "    #cos_theta = np.dot(d_k, d) / (norm(d_k) * norm(d))\n",
        "    print(d)"
      ]
    },
    {
      "cell_type": "markdown",
      "metadata": {
        "id": "BCzdzeYFudxg"
      },
      "source": [
        "__Búsqueda exacta: Método de la bisección__\n",
        "\n",
        "El **método de la bisección** es un algoritmo simple para encontrar el mínimo de una función continua en un intervalo \\([a, b]\\). El algoritmo asume que la función es unimodal, lo que significa que tiene un único mínimo en ese intervalo. Los pasos del algoritmo son los siguientes:\n",
        "\n",
        "1. **Inicializar el intervalo**:\n",
        "   Escoge un intervalo inicial \\([a, b]\\) que contenga el mínimo, donde \\(a\\) y \\(b\\) son los límites del intervalo.\n",
        "\n",
        "2. **Evaluar el punto medio**:\n",
        "   Calcula el punto medio del intervalo:\n",
        "   \\[\n",
        "   c = \\frac{a + b}{2}\n",
        "   \\]\n",
        "\n",
        "3. **Evaluar el gradiente**:\n",
        "   Calcula el gradiente de la función en \\(c\\), \\(f'(c)\\).\n",
        "   \n",
        "   - Si \\(f'(c) = 0\\), has encontrado el mínimo exacto en \\(c\\).\n",
        "   - Si \\(f'(c) > 0\\), el mínimo está a la izquierda de \\(c\\), por lo que ajustas el intervalo a \\([a, c]\\).\n",
        "   - Si \\(f'(c) < 0\\), el mínimo está a la derecha de \\(c\\), por lo que ajustas el intervalo a \\([c, b]\\).\n",
        "\n",
        "4. **Repetir**:\n",
        "   Repite los pasos anteriores hasta que el intervalo \\([a, b]\\) sea lo suficientemente pequeño según un criterio de convergencia, como \\( |b - a| < \\epsilon \\), donde \\( \\epsilon \\) es una pequeña tolerancia.\n",
        "\n",
        "5. **Resultado**:\n",
        "   El mínimo aproximado estará en el punto medio del intervalo final, \\(c\\)."
      ]
    },
    {
      "cell_type": "markdown",
      "metadata": {
        "id": "-4tEIgnErLSj"
      },
      "source": [
        "__Algoritmo de Búsqueda de Armijo__\n",
        "\n",
        "Dados: $f\\colon\\mathbb{R}^n\\rightarrow\\mathbb{R},\\;\\bar{x}\\in\\mathbb{R}^n$, $d\\in \\mathbb{R^n}$ dirección de descenso, $\\eta\\in(0,1)$, $\\beta > 1$<br>\n",
        "\n",
        "$t=1$<br>\n",
        "SI $f(\\bar{x}+td) \\leq f(\\bar{x})+\\eta t\\nabla f(\\bar{x})^Td$: <br>\n",
        "&nbsp;&nbsp;&nbsp;&nbsp; REPETIR mientras $f(\\bar{x}+td) \\leq f(\\bar{x})+\\eta t\\nabla f(\\bar{x})^Td$: <br>\n",
        "&nbsp;&nbsp;&nbsp;&nbsp;&nbsp;&nbsp;&nbsp;&nbsp; $t=\\beta t$ <br>\n",
        "&nbsp;&nbsp;&nbsp;&nbsp; DEVOLVER $\\dfrac{t}{\\beta}$ <br>\n",
        "SI NO: <br>\n",
        "&nbsp;&nbsp;&nbsp;&nbsp; REPETIR mientras $f(\\bar{x}+td) > f(\\bar{x})+\\eta t\\nabla f(\\bar{x})^Td$: <br>\n",
        "&nbsp;&nbsp;&nbsp;&nbsp;&nbsp;&nbsp;&nbsp;&nbsp; $t= \\dfrac{t}{\\beta}$ <br>\n",
        "&nbsp;&nbsp;&nbsp;&nbsp; DEVOLVER $t$\n",
        "\n",
        "Valores usuales para los parámetros (Luenberger) : $\\beta = 2\\text{ (o $\\beta = 10$)},\\; \\eta=0.2$ <br>\n",
        "Otros valores usuales (Nocedal) : $\\beta = 7, \\;\\eta = 0.45$"
      ]
    },
    {
      "cell_type": "markdown",
      "metadata": {
        "id": "kZu6FgbbrQO0"
      },
      "source": [
        "#### iii) Constante de Armijo\n",
        "\n",
        "$$\n",
        "\\alpha = \\frac{3}{4}, \\frac{1}{2} \\quad \\text{y con búsqueda exacta}.\n",
        "$$\n",
        "\n"
      ]
    },
    {
      "cell_type": "code",
      "execution_count": null,
      "metadata": {
        "colab": {
          "base_uri": "https://localhost:8080/"
        },
        "id": "gf-3hkTftSGt",
        "outputId": "ed3d52ed-008e-401a-f94e-3bbae768cbd3"
      },
      "outputs": [
        {
          "name": "stdout",
          "output_type": "stream",
          "text": [
            "El valor de paso t encontrado con α=0.75 e i=0 es:  0.25\n",
            "El valor de paso t encontrado con α=0.5 e i=0 es:  0.5\n",
            "El valor de paso t encontrado con α=0.75 e i=1 es:  0.25\n",
            "El valor de paso t encontrado con α=0.5 e i=1 es:  0.5\n",
            "El valor de paso t encontrado con α=0.75 e i=2 es:  0.25\n",
            "El valor de paso t encontrado con α=0.5 e i=2 es:  0.5\n",
            "El valor de paso t encontrado con α=0.75 e i=4 es:  0.25\n",
            "El valor de paso t encontrado con α=0.5 e i=4 es:  0.5\n"
          ]
        }
      ],
      "source": [
        "from functools import partial\n",
        "\n",
        "def busqueda_armijo(f, x, d, eta=0.2, betha=2): #eta = η  En este ejercicio, eta es el alpha de Armijo de la teorica\n",
        "  t=1\n",
        "  gradiente_val = gradiente(f, x)\n",
        "  if f(x + t*d) <= f(x) + eta * t * np.dot(gradiente_val, d):\n",
        "    while f(x + t*d) <= f(x) + eta * t * np.dot(gradiente_val, d):\n",
        "      t = t * betha\n",
        "    return t / betha # Devuelvo el último paso válido\n",
        "  else:\n",
        "     while f(x + t*d) > f(x) + eta * t * np.dot(gradiente_val, d):\n",
        "      t = t / betha\n",
        "     return t\n",
        "\n",
        "\n",
        "for i in [0,1,2,4]:\n",
        "  f_i = partial(funcion_objetivo, i=i)\n",
        "  x0 = np.array([10**(i / 2), 1])  # punto inicial para cada i\n",
        "  thetha = 0\n",
        "  d = np.dot(matriz_de_rotacion(thetha), -gradiente(f_i, x0))\n",
        "  for alpha_val in [3/4, 1/2]:\n",
        "    res = busqueda_armijo(f_i, x0, d, alpha_val, 2) # voy modificando el alpha\n",
        "    print(f\"El valor de paso t encontrado con α={alpha_val} e i={i} es: \", res)"
      ]
    },
    {
      "cell_type": "markdown",
      "metadata": {
        "id": "prlovnLwu1Pv"
      },
      "source": [
        "#### iv) Criterio de parada\n",
        "\n",
        "$$\n",
        "\\|\\nabla f(x)\\| < 10^{-4}\n",
        "$$"
      ]
    },
    {
      "cell_type": "code",
      "execution_count": null,
      "metadata": {
        "colab": {
          "base_uri": "https://localhost:8080/"
        },
        "id": "KS8kYzs2u1p4",
        "outputId": "bb5dfec3-0499-4982-ee7e-f484a3e18647"
      },
      "outputs": [
        {
          "name": "stdout",
          "output_type": "stream",
          "text": [
            "Para i=0: Mínimo aproximado en [2.22044605e-16 2.22044605e-16], valor de f es =9.860761315262648e-32, cantidad iteraciones=2\n",
            "Para i=1: Mínimo aproximado en [2.39999287e-06 6.66133815e-16], valor de f es =5.759965793611301e-14, cantidad iteraciones=698\n",
            "Para i=2: Mínimo aproximado en [8.18714376 1.        ], valor de f es =1.0067029323027508, cantidad iteraciones=1000\n",
            "Para i=4: Mínimo aproximado en [99.99800002  1.        ], valor de f es =1.0000999960008528, cantidad iteraciones=1000\n"
          ]
        }
      ],
      "source": [
        "# criterio de parada = 10^⁻4 y pido una condicion extra para el 1er ejc: norm(gradiente(f)) < 10^⁻4\n",
        "\n",
        "def metodo_direccion_descenso_con_criterio_parada(f, x0, thetha=0, eps=1e-8, k_max=1000, eps_parada=1e-4):\n",
        "  x_k = np.array(x0)\n",
        "  k = 0\n",
        "  while  norm(gradiente(f, x_k)) > eps  and  k < k_max and norm(gradiente(f, x_k)) > eps_parada:\n",
        "     d_k = np.dot(matriz_de_rotacion(thetha), -gradiente(f, x_k))\n",
        "     t_k = 1\n",
        "     while  f(x_k + t_k*d_k) > f(x_k):\n",
        "          t_k = t_k/2\n",
        "     x_k = x_k + t_k*d_k\n",
        "     k = k+1\n",
        "  return x_k, f(x_k), k   # devuelve el punto mínimo, el valor de f, y las iteraciones realizadas\n",
        "\n",
        "#Ejecuto el metodo para diferentes valores de i\n",
        "for i in [0, 1, 2, 4]:\n",
        "    x0 = [10**(i / 2), 1]  # punto inicial para cada i\n",
        "    min_x, min_f, iteraciones = metodo_direccion_descenso_con_criterio_parada(lambda x: funcion_objetivo(x, i), x0)\n",
        "    print(f\"Para i={i}: Mínimo aproximado en {min_x}, valor de f es ={min_f}, cantidad iteraciones={iteraciones}\")"
      ]
    },
    {
      "cell_type": "markdown",
      "metadata": {
        "id": "IC_xhIDLu1-k"
      },
      "source": [
        "#### v) Análisis\n",
        "\n",
        "Analizar los resultados de la minimización para cada una de las situaciones y compararlos, contando iteraciones, terminación por número de iteraciones máximo alcanzado. ¿Cuál es su conclusión?"
      ]
    },
    {
      "cell_type": "code",
      "execution_count": null,
      "metadata": {
        "id": "BcxL2WT6u2UR"
      },
      "outputs": [],
      "source": []
    },
    {
      "cell_type": "markdown",
      "metadata": {
        "id": "rpUn8eBvs0n4"
      },
      "source": [
        "### Problema 2: Función de Rosenbrock\n",
        "\n",
        "Con el mismo algoritmo implementado en el problema 1, pero sin usar las búsquedas exactas, minimizar la función de Rosenbrock desde el punto inicial $ x = (0, 0) $:\n",
        "\n",
        "$$\n",
        "f(x_1, x_2) = (1 - x_1)^2 + 100(x_2 - x_1^2)^2\n",
        "$$\n",
        "\n",
        "Y para su generalización en múltiples dimensiones para \\( N = 4 \\) dimensiones:\n",
        "\n",
        "$$\n",
        "f(x) = f(x_1, x_2, \\dots, x_N) = \\sum_{i=1}^{N/2} \\left[ 100(x_{2i-1}^2 - x_{2i})^2 + (x_{2i-1} - 1)^2 \\right].\n",
        "$$"
      ]
    },
    {
      "cell_type": "code",
      "execution_count": null,
      "metadata": {
        "colab": {
          "base_uri": "https://localhost:8080/",
          "height": 369
        },
        "id": "koOT_tYGtBbQ",
        "outputId": "77ac832d-e234-478d-a431-d3bd98ab2e6d"
      },
      "outputs": [
        {
          "name": "stdout",
          "output_type": "stream",
          "text": [
            "(array([0.92128123, 0.84888712]), 0.006198283454907513, 1000, [array([0, 0]), array([0.25, 0.  ]), array([0.21289062, 0.09765625]), array([0.26000603, 0.01588464]), array([0.22954618, 0.09669479]), array([0.27314952, 0.02793957]), array([0.24466848, 0.10086315]), array([0.28781905, 0.03679989]), array([0.27267802, 0.07276857]), array([0.35279026, 0.09257767]), array([0.3402714 , 0.11748649]), array([0.35238934, 0.11482733]), array([0.35221087, 0.12943814]), array([0.36826033, 0.12102307]), array([0.36479912, 0.13242354]), array([0.38315608, 0.13446996]), array([0.38058827, 0.14410951]), array([0.3981896 , 0.14641552]), array([0.39533844, 0.15589946]), array([0.41326301, 0.15712765]), array([0.40902717, 0.16779848]), array([0.41889416, 0.16702465]), array([0.41691556, 0.18022413]), array([0.42564368, 0.1752198 ]), array([0.42670004, 0.18452096]), array([0.43892215, 0.1806959 ]), array([0.43510544, 0.19003712]), array([0.44491141, 0.18891154]), array([0.4429674 , 0.19596984]), array([0.45132458, 0.1963609 ]), array([0.44955529, 0.20781867]), array([0.45787263, 0.20335092]), array([0.45733412, 0.21318909]), array([0.46445675, 0.21003707]), array([0.46457614, 0.21891677]), array([0.47099911, 0.216506  ]), array([0.47141355, 0.22484062]), array([0.47746553, 0.22280165]), array([0.47791357, 0.23088241]), array([0.48384505, 0.2289441 ]), array([0.48410505, 0.23700962]), array([0.49014143, 0.23493781]), array([0.48998876, 0.24322033]), array([0.4963706 , 0.24077396]), array([0.49553811, 0.24953929]), array([0.50256183, 0.24642892]), array([0.50162703, 0.25122539]), array([0.50878035, 0.25185709]), array([0.50705293, 0.25732611]), array([0.51510928, 0.256977  ]), array([0.51216841, 0.26350869]), array([0.51693368, 0.26257728]), array([0.51698096, 0.2698322 ]), array([0.5228248 , 0.26782995]), array([0.52204678, 0.27213919]), array([0.52887259, 0.27275427]), array([0.52680844, 0.27818548]), array([0.53104716, 0.27767114]), array([0.53117232, 0.2844523 ]), array([0.5367508 , 0.28264896]), array([0.53579711, 0.2869087 ]), array([0.5427659 , 0.28717407]), array([0.54004471, 0.29297153]), array([0.54475469, 0.29193775]), array([0.54420868, 0.29570332]), array([0.55054851, 0.29642171]), array([0.54831182, 0.30164198]), array([0.55269406, 0.30086375]), array([0.55221013, 0.30446295]), array([0.55839047, 0.30520214]), array([0.55608408, 0.31035665]), array([0.56053153, 0.30947607]), array([0.55983137, 0.3131632 ]), array([0.5662752 , 0.31355064]), array([0.56336655, 0.31911077]), array([0.56829963, 0.31776007]), array([0.56705095, 0.32182601]), array([0.57068076, 0.32160786]), array([0.57013289, 0.32796516]), array([0.5760868 , 0.32568887]), array([0.57382937, 0.33052257]), array([0.5782728 , 0.32955192]), array([0.57718757, 0.33333904]), array([0.58066534, 0.33318783]), array([0.57998742, 0.33941347]), array([0.58601289, 0.3370478 ]), array([0.58342063, 0.34201913]), array([0.58816972, 0.34073827]), array([0.58660335, 0.34480495]), array([0.59047594, 0.34425694]), array([0.5896113 , 0.34769827]), array([0.59286977, 0.34765391]), array([0.59249265, 0.35065442]), array([0.59813208, 0.35126867]), array([0.59520314, 0.35634157]), array([0.60029519, 0.35472064]), array([0.59813371, 0.35912194]), array([0.60254246, 0.358061  ]), array([0.60094361, 0.36196445]), array([0.60484174, 0.36131506]), array([0.60365866, 0.36484512]), array([0.60717135, 0.36450032]), array([0.60629681, 0.36774777]), array([0.60951656, 0.36762906]), array([0.60887071, 0.37066139]), array([0.61186728, 0.37070995]), array([0.61138934, 0.3735784 ]), array([0.6142166 , 0.37374912]), array([0.61385915, 0.37649359]), array([0.61655986, 0.37675098]), array([0.61600964, 0.3820558 ]), array([0.62150048, 0.38003398]), array([0.61840869, 0.38490028]), array([0.62377748, 0.38296983]), array([0.62074355, 0.38775774]), array([0.6260684 , 0.38585525]), array([0.62301628, 0.39062587]), array([0.62837233, 0.38869103]), array([0.62522685, 0.39350412]), array([0.63069036, 0.39147638]), array([0.6273732 , 0.39639353]), array([0.63302557, 0.39420884]), array([0.62945099, 0.39929676]), array([0.63538321, 0.3968841 ]), array([0.63145331, 0.40221826]), array([0.63777102, 0.39949562]), array([0.63336995, 0.40516457]), array([0.64019981, 0.40203404]), array([0.63518655, 0.40814479]), array([0.64268427, 0.40448633]), array([0.63688317, 0.41117128]), array([0.6452441 , 0.40683447]), array([0.64183818, 0.41054755]), array([0.65292129, 0.41935196]), array([0.64853818, 0.42478497]), array([0.65203058, 0.42315091]), array([0.66303982, 0.44806304]), array([0.66872863, 0.44476568]), array([0.66882178, 0.44856615]), array([0.67270869, 0.44759461]), array([0.67007069, 0.45145583]), array([0.67264784, 0.45049446]), array([0.67662193, 0.46274859]), array([0.68049189, 0.46082228]), array([0.68070601, 0.46433312]), array([0.68423479, 0.4635734 ]), array([0.68177965, 0.46717016]), array([0.68427263, 0.46625349]), array([0.68569032, 0.47242704]), array([0.68812653, 0.47154586]), array([0.6893903 , 0.47770917]), array([0.69192326, 0.47675207]), array([0.69287686, 0.48301996]), array([0.69566888, 0.48187089]), array([0.69589284, 0.48512762]), array([0.69920463, 0.48445514]), array([0.69795863, 0.48618638]), array([0.70321024, 0.48918597]), array([0.70144759, 0.49126358]), array([0.70443526, 0.49245911]), array([0.70259488, 0.49540436]), array([0.70472532, 0.49471499]), array([0.7051045 , 0.49771935]), array([0.70801101, 0.49729201]), array([0.70694592, 0.49884965]), array([0.71202617, 0.50173367]), array([0.71023199, 0.50378352]), array([0.71332592, 0.50479283]), array([0.71219373, 0.50637136]), array([0.71480218, 0.50769721]), array([0.71340608, 0.51023232]), array([0.71524127, 0.50973072]), array([0.71557944, 0.51260471]), array([0.71841729, 0.51217441]), array([0.7173008 , 0.51371699]), array([0.71991699, 0.51497238]), array([0.71838396, 0.51755683]), array([0.72031539, 0.51697819]), array([0.72046245, 0.51990956]), array([0.72202912, 0.5195801 ]), array([0.72283678, 0.5250362 ]), array([0.72535563, 0.52404277]), array([0.72512346, 0.52568184]), array([0.7271325, 0.5257773]), array([0.72591905, 0.52807759]), array([0.72762436, 0.52764043]), array([0.72779467, 0.53044789]), array([0.7292917 , 0.53014992]), array([0.72960964, 0.53283189]), array([0.73229397, 0.53243996]), array([0.73115741, 0.53393   ]), array([0.73384743, 0.53496305]), array([0.73284091, 0.53635719]), array([0.73541536, 0.53744878]), array([0.73450293, 0.53877181]), array([0.7369924, 0.5399011]), array([0.73614464, 0.54117324]), array([0.73857495, 0.54232277]), array([0.73776691, 0.54356112]), array([0.74016079, 0.54471563]), array([0.73937028, 0.5459353 ]), array([0.74174876, 0.54708078]), array([0.74095508, 0.54829579]), array([0.74333867, 0.54941866]), array([0.7425214 , 0.55064277]), array([0.74493124, 0.55172911]), array([0.74406909, 0.55297654]), array([0.7465281 , 0.55401133]), array([0.74559774, 0.55529761]), array([0.74813196, 0.55626383]), array([0.74710662, 0.55760664]), array([0.74974677, 0.55848423]), array([0.74859458, 0.55990454]), array([0.74998636, 0.56028681]), array([0.74937003, 0.56199987]), array([0.75060924, 0.56182627]), array([0.75078115, 0.56430747]), array([0.7521272 , 0.56405937]), array([0.75215507, 0.56661554]), array([0.75363932, 0.56627246]), array([0.75348556, 0.56892834]), array([0.75514775, 0.56846433]), array([0.75495593, 0.56985792]), array([0.75675174, 0.56993647]), array([0.75608394, 0.5710055 ]), array([0.75834179, 0.57203273]), array([0.75747905, 0.57322395]), array([0.7599652, 0.5740842]), array([0.75884683, 0.5754369 ]), array([0.76024279, 0.57575847]), array([0.75948994, 0.57748553]), array([0.76082137, 0.57722749]), array([0.76070291, 0.57976135]), array([0.7622869 , 0.57933462]), array([0.76206359, 0.58069923]), array([0.76387283, 0.5807318 ]), array([0.76314219, 0.58181379]), array([0.76547847, 0.58270787]), array([0.76445132, 0.58397717]), array([0.76580343, 0.58429643]), array([0.76505034, 0.58598273]), array([0.76637497, 0.58571683]), array([0.76616053, 0.58823833]), array([0.76781401, 0.58775537]), array([0.7674889 , 0.58914833]), array([0.76943625, 0.58906308]), array([0.76855212, 0.59022287]), array([0.76982053, 0.59057404]), array([0.76915344, 0.5921753 ]), array([0.77040267, 0.59194941]), array([0.77020824, 0.5944039 ]), array([0.7718178 , 0.59394172]), array([0.77147677, 0.5953175 ]), array([0.77245448, 0.59526239]), array([0.77257358, 0.59748666]), array([0.7738342 , 0.59724575]), array([0.77369843, 0.59847515]), array([0.77530428, 0.59857993]), array([0.77465756, 0.59956305]), array([0.77689241, 0.60039317]), array([0.77584072, 0.60163092]), array([0.77723083, 0.60186366]), array([0.77675052, 0.60273245]), array([0.77876073, 0.60368389]), array([0.77793091, 0.60477154]), array([0.77917359, 0.60508792]), array([0.77843518, 0.60666883]), array([0.77973094, 0.60639247]), array([0.77951724, 0.60763299]), array([0.78122254, 0.60764404]), array([0.78045084, 0.6086849 ]), array([0.78165559, 0.60901194]), array([0.78095108, 0.61055375]), array([0.78221501, 0.61029236]), array([0.78200008, 0.61151733]), array([0.7836949 , 0.61152263]), array([0.78291425, 0.61255977]), array([0.78412709, 0.61286833]), array([0.78337917, 0.61442064]), array([0.78467684, 0.61413247]), array([0.78441542, 0.61537096]), array([0.78529641, 0.61534619]), array([0.78535228, 0.61744659]), array([0.78660084, 0.6171855 ]), array([0.78635636, 0.61840064]), array([0.78807991, 0.61836602]), array([0.78724295, 0.61942224]), array([0.78850015, 0.61967944]), array([0.78806161, 0.62048141]), array([0.78999479, 0.62135594]), array([0.78912661, 0.62242462]), array([0.79040886, 0.62265602]), array([0.78993689, 0.62347248]), array([0.79191618, 0.6242972 ]), array([0.79097563, 0.62540425]), array([0.79231424, 0.62559034]), array([0.79178135, 0.62643859]), array([0.79281531, 0.62681291]), array([0.7922745 , 0.62817479]), array([0.79338049, 0.62798889]), array([0.79318019, 0.62913242]), array([0.794793 , 0.6291343]), array([0.794004  , 0.63013493]), array([0.79523194, 0.6303751 ]), array([0.79477762, 0.63116367]), array([0.79672301, 0.63195711]), array([0.79576773, 0.63305494]), array([0.79712539, 0.63320442]), array([0.79654503, 0.63406554]), array([0.79761372, 0.63439245]), array([0.79695755, 0.63579495]), array([0.79815764, 0.63553964]), array([0.79784392, 0.636724  ]), array([0.79873898, 0.63665795]), array([0.79857389, 0.63872984]), array([0.79999057, 0.63833547]), array([0.79949136, 0.6396241 ]), array([0.80054797, 0.63945314]), array([0.80032509, 0.64056557]), array([0.8011334 , 0.64054786]), array([0.80106903, 0.64252735]), array([0.80235663, 0.64220869]), array([0.80193561, 0.64343328]), array([0.80291765, 0.64330337]), array([0.80273437, 0.64437633]), array([0.80350109, 0.64437873]), array([0.80346969, 0.64630884]), array([0.80470522, 0.64601771]), array([0.80430372, 0.64721519]), array([0.8052634 , 0.64709381]), array([0.80507947, 0.64815267]), array([0.8058407 , 0.64815278]), array([0.80578592, 0.65006911]), array([0.80703444, 0.64976514]), array([0.80660076, 0.65096783]), array([0.807585  , 0.65082602]), array([0.80736264, 0.65189439]), array([0.80815295, 0.65187097]), array([0.80801841, 0.65380881]), array([0.80934598, 0.65345137]), array([0.80882532, 0.6546932 ]), array([0.80988476, 0.65449992]), array([0.80958145, 0.65560414]), array([0.8104404 , 0.65553304]), array([0.81029969, 0.6565335 ]), array([0.81171578, 0.6565742 ]), array([0.81098744, 0.65747588]), array([0.8121793 , 0.65765147]), array([0.81165426, 0.65842637]), array([0.81267389, 0.6587047 ]), array([0.81230462, 0.65938211]), array([0.81319135, 0.65973889]), array([0.81269243, 0.66094302]), array([0.81372507, 0.66075785]), array([0.81341221, 0.66184429]), array([0.81427126, 0.66176427]), array([0.8141021 , 0.66275912]), array([0.81482628, 0.66276033]), array([0.81471103, 0.66460649]), array([0.81597738, 0.66427351]), array([0.8154445 , 0.66548099]), array([0.81650387, 0.66527347]), array([0.81614483, 0.6663712 ]), array([0.81704079, 0.66626229]), array([0.81681901, 0.66727273]), array([0.81758525, 0.6672417 ]), array([0.81747236, 0.66818228]), array([0.81879773, 0.66824383]), array([0.81810727, 0.66909769]), array([0.81927034, 0.66925535]), array([0.81872915, 0.6700165 ]), array([0.81976038, 0.67025159]), array([0.81934016, 0.67093732]), array([0.82026384, 0.67123496]), array([0.81994201, 0.6718591 ]), array([0.82077758, 0.67220738]), array([0.82029451, 0.67335461]), array([0.82129866, 0.67317042]), array([0.82094813, 0.67423376]), array([0.8218258 , 0.67412519]), array([0.82158382, 0.6751193 ]), array([0.82235735, 0.67507269]), array([0.82220465, 0.67600935]), array([0.82289201, 0.6760137 ]), array([0.82281303, 0.67690242]), array([0.82404449, 0.67699528]), array([0.82340945, 0.67779764]), array([0.82452468, 0.67795818]), array([0.82399732, 0.67869364]), array([0.82501448, 0.67891079]), array([0.82457774, 0.67958974]), array([0.82551183, 0.67985435]), array([0.82515158, 0.68048538]), array([0.82601508, 0.68078987]), array([0.8257196 , 0.68138012]), array([0.82652285, 0.6817182 ]), array([0.82604193, 0.682829  ]), array([0.82703363, 0.68264004]), array([0.82664741, 0.6836905 ]), array([0.82754709, 0.6835559 ]), array([0.82724151, 0.68455456]), array([0.82806244, 0.68446626]), array([0.82782573, 0.68542028]), array([0.82857902, 0.68537151]), array([0.82840132, 0.68628689]), array([0.82909631, 0.68627199]), array([0.8289693 , 0.68715379]), array([0.82961387, 0.68716798]), array([0.82953052, 0.68802048]), array([0.83073217, 0.68809892]), array([0.83008431, 0.68888682]), array([0.83121315, 0.68900646]), array([0.8306329, 0.6897521]), array([0.83169792, 0.6899075 ]), array([0.83117673, 0.69061607]), array([0.83218568, 0.69080254]), array([0.83171615, 0.6914785 ]), array([0.83267576, 0.69169198]), array([0.83225148, 0.69233922]), array([0.8331676 , 0.69257618]), array([0.83278299, 0.69319808]), array([0.83366071, 0.69345545]), array([0.83331091, 0.69405496]), array([0.8341547 , 0.69433004]), array([0.83383542, 0.69490974]), array([0.83464921, 0.69520019]), array([0.83435671, 0.69576234]), array([0.83514396, 0.69606607]), array([0.83487491, 0.6966127 ]), array([0.8356387 , 0.69692786]), array([0.83539014, 0.69746074]), array([0.83613322, 0.6977857 ]), array([0.83567185, 0.69882715]), array([0.83662695, 0.69863976]), array([0.83619752, 0.6996592 ]), array([0.83712019, 0.6994901 ]), array([0.8367183 , 0.70049018]), array([0.8376128, 0.7003368]), array([0.83723448, 0.70131993]), array([0.83810468, 0.70117995]), array([0.83774631, 0.70214831]), array([0.83859572, 0.70201963]), array([0.83825398, 0.70297522]), array([0.83908586, 0.70285589]), array([0.83875767, 0.70380057]), array([0.83957502, 0.70368879]), array([0.83925752, 0.70462428]), array([0.84006317, 0.70451838]), array([0.83975364, 0.70544631]), array([0.84055027, 0.7053447 ]), array([0.84024613, 0.70626661]), array([0.84103628, 0.70616776]), array([0.84073506, 0.70708516]), array([0.84152121, 0.70698761]), array([0.84122048, 0.70790194]), array([0.84200504, 0.70780427]), array([0.84170243, 0.70871694]), array([0.84248778, 0.70861773]), array([0.84218091, 0.70953017]), array([0.84296944, 0.70942803]), array([0.84265591, 0.71034166]), array([0.84345004, 0.71023515]), array([0.84312743, 0.71115142]), array([0.84392962, 0.71103909]), array([0.84359541, 0.7119595 ]), array([0.84440822, 0.71183985]), array([0.84405979, 0.71276594]), array([0.84488589, 0.71263742]), array([0.8445205 , 0.71357082]), array([0.84536269, 0.71343177]), array([0.84497742, 0.71437419]), array([0.84583868, 0.71422288]), array([0.84543043, 0.71517616]), array([0.84631397, 0.71501071]), array([0.84609667, 0.71549377]), array([0.84678899, 0.71579518]), array([0.84655629, 0.71628597]), array([0.84726356, 0.71657626]), array([0.8470134 , 0.71707598]), array([0.84773783, 0.71735389]), array([0.84746795, 0.71786386]), array([0.84821195, 0.71812798]), array([0.84791986, 0.71864967]), array([0.84868613, 0.71889843]), array([0.84836903, 0.71943348]), array([0.84916056, 0.71966514]), array([0.84881536, 0.72021535]), array([0.84963552, 0.72042798]), array([0.84925872, 0.72099538]), array([0.85011129, 0.72118678]), array([0.84969896, 0.72177366]), array([0.8505882 , 0.72194136]), array([0.8501359 , 0.72255031]), array([0.85106663, 0.72269151]), array([0.85056934, 0.72332546]), array([0.85154706, 0.72343698]), array([0.85099905, 0.72409925]), array([0.85151451, 0.72413836]), array([0.85142575, 0.72487165]), array([0.85197009, 0.7248928 ]), array([0.85184831, 0.72564299]), array([0.85242533, 0.72564399]), array([0.85226638, 0.72641348]), array([0.85288041, 0.7263918 ]), array([0.85267957, 0.72718336]), array([0.85333559, 0.72713613]), array([0.85308741, 0.72795292]), array([0.85379111, 0.72787683]), array([0.85348935, 0.72872248]), array([0.8542473 , 0.72861373]), array([0.85388476, 0.72949242]), array([0.85470451, 0.72934662]), array([0.8544887 , 0.72980489]), array([0.85516349, 0.73007524]), array([0.85490793, 0.73055545]), array([0.85562455, 0.73079929]), array([0.85532348, 0.73130479]), array([0.85608829, 0.73151843]), array([0.85573502, 0.73205309]), array([0.85655546, 0.73223225]), array([0.85614212, 0.73280061]), array([0.85702693, 0.73294024]), array([0.85654432, 0.73354763]), array([0.85702403, 0.73359472]), array([0.8569419 , 0.73429431]), array([0.85746382, 0.73431584]), array([0.85733357, 0.73504112]), array([0.85790444, 0.7350332 ]), array([0.85771856, 0.73578854]), array([0.85834632, 0.73574658]), array([0.85809596, 0.73653707]), array([0.85878998, 0.73645567]), array([0.85846469, 0.73728735]), array([0.85923602, 0.73716012]), array([0.85902974, 0.73760012]), array([0.85968549, 0.73785947]), array([0.85942786, 0.73832809]), array([0.86013913, 0.73855321]), array([0.85982122, 0.7390556 ]), array([0.86059807, 0.7392407 ]), array([0.86020917, 0.73978301]), array([0.86106365, 0.73992114]), array([0.86059094, 0.74051078]), array([0.86106425, 0.74055218]), array([0.86096645, 0.74123926]), array([0.86149343, 0.74124862]), array([0.86133401, 0.74196917]), array([0.86192472, 0.7419407 ]), array([0.86169232, 0.74270127]), array([0.86235889, 0.74262798]), array([0.8620398 , 0.74343647]), array([0.86279681, 0.74330996]), array([0.86258565, 0.74374292]), array([0.86323993, 0.74398595]), array([0.86296674, 0.74445362]), array([0.86368947, 0.74465516]), array([0.86334182, 0.74516466]), array([0.86414718, 0.74531656]), array([0.86370988, 0.74587663]), array([0.86416256, 0.74592278]), array([0.86407047, 0.74659008]), array([0.86458275, 0.7466009 ]), array([0.8644216 , 0.74730592]), array([0.86500605, 0.74727419]), array([0.86476146, 0.74802519]), array([0.86543351, 0.74794206]), array([0.86526066, 0.74834562]), array([0.86586662, 0.74860374]), array([0.86563209, 0.74904174]), array([0.86630694, 0.74925828]), array([0.86599709, 0.74973853]), array([0.86675654, 0.7499045 ]), array([0.86635447, 0.75043668]), array([0.86678624, 0.75048878]), array([0.86670339, 0.75113692]), array([0.86719845, 0.7511517 ]), array([0.8670416 , 0.75184034]), array([0.86761462, 0.7518094 ]), array([0.86736681, 0.75254825]), array([0.86803606, 0.75246111]), array([0.8678561, 0.7528617]), array([0.86846469, 0.75310585]), array([0.86821516, 0.75354533]), array([0.86890256, 0.75374238]), array([0.86856662, 0.75423038]), array([0.86935243, 0.75436912]), array([0.86890884, 0.75491776]), array([0.86936334, 0.75495089]), array([0.86924055, 0.7556085 ]), array([0.86977127, 0.75559703]), array([0.86955873, 0.75630408]), array([0.87018491, 0.75623701]), array([0.86986014, 0.75700636]), array([0.87060614, 0.75686976]), array([0.87037341, 0.7572937 ]), array([0.87103774, 0.75749384]), array([0.87071612, 0.75796763]), array([0.87148271, 0.75810742]), array([0.87104877, 0.75864441]), array([0.87149699, 0.75867627]), array([0.87136969, 0.75932528]), array([0.87189948, 0.7593096 ]), array([0.87167538, 0.76001202]), array([0.8723088 , 0.75993622]), array([0.87213536, 0.76032154]), array([0.87272748, 0.76055478]), array([0.87247568, 0.76098387]), array([0.8731585 , 0.76116351]), array([0.87280656, 0.76164876]), array([0.87360588, 0.76176012]), array([0.87312559, 0.76231759]), array([0.87360024, 0.76232958]), array([0.87343049, 0.76299193]), array([0.87400072, 0.76294853]), array([0.87371679, 0.7636741 ]), array([0.87441013, 0.76355962]), array([0.87419473, 0.76396331]), array([0.87483185, 0.76416105]), array([0.87452133, 0.76461797]), array([0.8752699 , 0.76475046]), array([0.87483609, 0.76527661]), array([0.87528293, 0.76530066]), array([0.87513645, 0.76594093]), array([0.87567693, 0.7659108 ]), array([0.87541777, 0.76661337]), array([0.87608025, 0.76651294]), array([0.87587736, 0.766905  ]), array([0.8764965 , 0.76710512]), array([0.87619762, 0.76755082]), array([0.8769301 , 0.76768477]), array([0.87650539, 0.76820103]), array([0.87694625, 0.76822473]), array([0.87679773, 0.76885754]), array([0.87733603, 0.76882501]), array([0.87706949, 0.76952306]), array([0.87773618, 0.76941675]), array([0.87752526, 0.76980896]), array([0.87815079, 0.76999773]), array([0.87783706, 0.77044737]), array([0.87858499, 0.77056497]), array([0.87813496, 0.77109099]), array([0.8785904 , 0.77110271]), array([0.87841545, 0.77174207]), array([0.87897849, 0.77169192]), array([0.87882547, 0.77204788]), array([0.87937898, 0.77227157]), array([0.87913853, 0.77267619]), array([0.87979654, 0.77283898]), array([0.87943923, 0.77330888]), array([0.87983839, 0.7733497 ]), array([0.87972424, 0.77394805]), array([0.88021696, 0.77393504]), array([0.87998804, 0.77459665]), array([0.8806065 , 0.77451161]), array([0.88041504, 0.77488513]), array([0.88101155, 0.77507694]), array([0.88071619, 0.77550835]), array([0.88143802, 0.77562762]), array([0.88100225, 0.77613753]), array([0.8814482 , 0.77614824]), array([0.88126888, 0.77677534]), array([0.88182941, 0.77672045]), array([0.88166915, 0.77707305]), array([0.88222519, 0.77728199]), array([0.88196892, 0.77768796]), array([0.88264131, 0.77782954]), array([0.88225424, 0.7783085 ]), array([0.88267004, 0.77833352]), array([0.88252074, 0.77893733]), array([0.88304478, 0.77890043]), array([0.88290306, 0.77923936]), array([0.88343374, 0.7794569 ]), array([0.88320009, 0.77984685]), array([0.88384274, 0.77999962]), array([0.88348281, 0.78045992]), array([0.88388139, 0.78049193]), array([0.88374673, 0.78108129]), array([0.88425125, 0.78105277]), array([0.88398459, 0.78171488]), array([0.88463538, 0.78160311]), array([0.88441105, 0.78198461]), array([0.88504007, 0.78213952]), array([0.88468955, 0.78259124]), array([0.88508168, 0.7826242 ]), array([0.88494866, 0.78320652]), array([0.88544813, 0.78317825]), array([0.88518072, 0.78383461]), array([0.88582958, 0.78372144]), array([0.88560246, 0.78410136]), array([0.88623278, 0.78425008]), array([0.8858751 , 0.78470261]), array([0.88627101, 0.78473077]), array([0.8861271 , 0.78531321]), array([0.88663559, 0.78527729]), array([0.88649284, 0.78560752]), array([0.88701665, 0.78581223]), array([0.8867745 , 0.78619751]), array([0.88742144, 0.78633149]), array([0.88703942, 0.78679451]), array([0.88744989, 0.78681186]), array([0.88728166, 0.78740205]), array([0.88781437, 0.78734998]), array([0.88765306, 0.78768763]), array([0.88819745, 0.78787538]), array([0.88792686, 0.78827356]), array([0.88860743, 0.78838337]), array([0.88818186, 0.78886766]), array([0.8886191 , 0.78886741]), array([0.88841113, 0.78947404]), array([0.88898564, 0.78939603]), array([0.88879461, 0.78974737]), array([0.88937386, 0.78991026]), array([0.88905864, 0.79033042]), array([0.88942612, 0.79036746]), array([0.88930138, 0.79092322]), array([0.88977984, 0.79089733]), array([0.88964674, 0.79121406]), array([0.89015126, 0.79141505]), array([0.88991676, 0.79178779]), array([0.89054867, 0.79191596]), array([0.89016848, 0.79236947]), array([0.89057633, 0.79238136]), array([0.89039474, 0.79296327]), array([0.89093451, 0.79290058]), array([0.89075936, 0.79323798]), array([0.89131459, 0.79340537]), array([0.89101751, 0.79381018]), array([0.89137221, 0.79385003]), array([0.89125375, 0.79439252]), array([0.89171981, 0.79436937]), array([0.89158904, 0.79467985]), array([0.8920861 , 0.79487607]), array([0.89185144, 0.79524387]), array([0.89248018, 0.79536506]), array([0.89209429, 0.79581655]), array([0.89250487, 0.79582267]), array([0.89230954, 0.79640257]), array([0.89286005, 0.79632982]), array([0.89267222, 0.79666937]), array([0.89323967, 0.79682119]), array([0.89291984, 0.79723366]), array([0.89328777, 0.79726185]), array([0.89314277, 0.79780965]), array([0.8936339 , 0.79776838]), array([0.89348168, 0.79808602]), array([0.89400185, 0.79826063]), array([0.89373236, 0.79864292]), array([0.89406745, 0.79868769]), array([0.89396059, 0.79921027]), array([0.89440605, 0.7991928 ]), array([0.89428092, 0.79949334]), array([0.89476448, 0.79968476]), array([0.89453334, 0.80004363]), array([0.89515286, 0.80015791]), array([0.89476466, 0.80060351]), array([0.89517553, 0.80060362]), array([0.89496556, 0.80117832]), array([0.89552615, 0.80109435]), array([0.89532366, 0.80143526]), array([0.89590476, 0.80156744]), array([0.89555694, 0.80198849]), array([0.89594132, 0.80200167]), array([0.8957615 , 0.80255571]), array([0.89628558, 0.80249046]), array([0.89610436, 0.80281756]), array([0.89665637, 0.80296245]), array([0.89633839, 0.80336487]), array([0.89670296, 0.80338739]), array([0.89654488, 0.80392551]), array([0.89704201, 0.80387364]), array([0.89687602, 0.80419033]), array([0.89740664, 0.80434367]), array([0.89710979, 0.80473234]), array([0.8974601 , 0.80476111]), array([0.89731673, 0.80528729]), array([0.89779494, 0.80524433]), array([0.89763907, 0.80555348]), array([0.89815485, 0.80571163]), array([0.89787169, 0.80609073]), array([0.89821252, 0.80612309]), array([0.89807775, 0.80664078]), array([0.89854403, 0.80660284]), array([0.89839382, 0.80690695]), array([0.89890055, 0.80706672]), array([0.89862447, 0.80743996]), array([0.8989601 , 0.80747354]), array([0.89882843, 0.80798583]), array([0.89928914, 0.80794939]), array([0.89914046, 0.80825078]), array([0.89964353, 0.80840921]), array([0.89936836, 0.80878002]), array([0.89970283, 0.8088126 ]), array([0.89956901, 0.80932243]), array([0.90003021, 0.80928414]), array([0.89987913, 0.80958502]), array([0.90038373, 0.80973925]), array([0.90010347, 0.81011098]), array([0.90044075, 0.81014038]), array([0.9002996 , 0.81065067]), array([0.90076734, 0.81060719]), array([0.90060986, 0.81090977]), array([0.90112131, 0.81105691]), array([0.90082981, 0.81143297]), array([0.901174  , 0.81145694]), array([0.90102008, 0.81197072]), array([0.90150072, 0.81191855]), array([0.90133262, 0.81222519]), array([0.90185658, 0.81236214]), array([0.90154725, 0.81274618]), array([0.90190277, 0.8127623 ]), array([0.90173018, 0.81328285]), array([0.90223066, 0.81321819]), array([0.90204728, 0.81353146]), array([0.90259007, 0.81365477]), array([0.90225551, 0.81405089]), array([0.90262738, 0.81405641]), array([0.90242938, 0.81458748]), array([0.90295765, 0.81450596]), array([0.90275364, 0.81482883]), array([0.90332253, 0.81493454]), array([0.90295419, 0.81534745]), array([0.90334822, 0.81533917]), array([0.90323257, 0.81561215]), array([0.90368242, 0.81578163]), array([0.9034513 , 0.81611768]), array([0.90375322, 0.8161593 ]), array([0.90364294, 0.81663632]), array([0.90406576, 0.81661063]), array([0.90392895, 0.81689355]), array([0.9044055 , 0.81704512]), array([0.90414004, 0.81739831]), array([0.90446441, 0.81742601]), array([0.90432065, 0.81791809]), array([0.90478077, 0.81787033]), array([0.90461699, 0.81816639]), array([0.90512824, 0.81829569]), array([0.90481897, 0.81867125]), array([0.90517231, 0.81868145]), array([0.90498611, 0.81919353]), array([0.90549418, 0.81911788]), array([0.90529611, 0.8194311 ]), array([0.90557414, 0.81948186]), array([0.9054874 , 0.81993706]), array([0.90587755, 0.81992549]), array([0.90575785, 0.82019449]), array([0.90620712, 0.82035292]), array([0.90596576, 0.82068824]), array([0.90627241, 0.82072172]), array([0.90614375, 0.8211967 ]), array([0.90658131, 0.82115756]), array([0.90642769, 0.82144354]), array([0.90692132, 0.8215745 ]), array([0.90662471, 0.82193847]), array([0.90696829, 0.82195015]), array([0.90678625, 0.82245118]), array([0.90728488, 0.82237701]), array([0.90708791, 0.82268515]), array([0.90736346, 0.82273332]), array([0.9072718 , 0.82318263]), array([0.90766274, 0.82316681]), array([0.90753781, 0.82343432]), array([0.90798997, 0.82358319]), array([0.90773749, 0.82392014]), array([0.90805023, 0.82394639]), array([0.90790477, 0.82442203]), array([0.90835741, 0.82437088]), array([0.90818861, 0.82466084]), array([0.90869912, 0.82477467]), array([0.90837465, 0.82514944]), array([0.90873607, 0.82514752]), array([0.90862846, 0.82540288]), array([0.90905438, 0.82556131]), array([0.9088283 , 0.82588106]), array([0.90912209, 0.82591536]), array([0.90899738, 0.82637443]), array([0.90942259, 0.82633607]), array([0.90926956, 0.82661473]), array([0.90975619, 0.82673692]), array([0.90945524, 0.82709606]), array([0.90979985, 0.82710105]), array([0.90970105, 0.82734899]), array([0.91011227, 0.82751072]), array([0.90989911, 0.82782073]), array([0.91018306, 0.82785809]), array([0.91006685, 0.8283074 ]), array([0.9104791 , 0.82827391]), array([0.9103321 , 0.82854668]), array([0.91080811, 0.82867   ]), array([0.9105151 , 0.82902211]), array([0.91085353, 0.82902822]), array([0.91075634, 0.82927272]), array([0.9111627, 0.8294324]), array([0.91095088, 0.82973907]), array([0.91123294, 0.82977517]), array([0.91111444, 0.83022072]), array([0.91152657, 0.8301851 ]), array([0.91137682, 0.83045681]), array([0.91185431, 0.8305747 ]), array([0.91155493, 0.83092766]), array([0.91189705, 0.83092951]), array([0.91179471, 0.83117432]), array([0.91220561, 0.83132688]), array([0.91198399, 0.83163633]), array([0.9122719 , 0.83166698]), array([0.91214046, 0.83211466]), array([0.91256521, 0.83206996]), array([0.91240391, 0.83234547]), array([0.91289519, 0.83245127]), array([0.91257477, 0.83281313]), array([0.91293083, 0.83280515]), array([0.91281622, 0.83305419]), array([0.91324167, 0.83319425]), array([0.91299831, 0.83351303]), array([0.91330044, 0.83353369]), array([0.91314438, 0.83398995]), array([0.91359587, 0.83392851]), array([0.91341313, 0.83421323]), array([0.91367264, 0.83425633]), array([0.91357421, 0.83467927]), array([0.91395566, 0.83465527]), array([0.91382074, 0.83491296]), array([0.91427214, 0.83503436]), array([0.91399332, 0.83536998]), array([0.91431942, 0.83537537]), array([0.91422221, 0.83561156]), array([0.91461994, 0.83576054]), array([0.9144039 , 0.83606097]), array([0.91468574, 0.83608969]), array([0.91455147, 0.83652743]), array([0.91497316, 0.83647937]), array([0.91480741, 0.83675145]), array([0.91505361, 0.83679877]), array([0.91496757, 0.83720841]), array([0.91533029, 0.83719171]), array([0.91520492, 0.83744086]), array([0.91563975, 0.83756522]), array([0.91537488, 0.8378898 ]), array([0.91569016, 0.83789815]), array([0.91559719, 0.83812875]), array([0.91598553, 0.83827677]), array([0.91577505, 0.8385708 ]), array([0.91605172, 0.83859937]), array([0.91591835, 0.83903015]), array([0.91633532, 0.83898182]), array([0.91616917, 0.83925081]), array([0.91641422, 0.83929578]), array([0.91632374, 0.83970144]), array([0.916688  , 0.83968103]), array([0.91655806, 0.83992941]), array([0.91699618, 0.84004603]), array([0.91672152, 0.84037258]), array([0.9170427 , 0.84037483]), array([0.91694228, 0.84060627]), array([0.91733776, 0.84074445]), array([0.91711304, 0.84104293]), array([0.91739856, 0.84106379]), array([0.91724642, 0.84149842]), array([0.91768248, 0.84143693]), array([0.91749916, 0.84171201]), array([0.91775498, 0.84174822]), array([0.91764326, 0.84215915]), array([0.91802949, 0.84212399]), array([0.91788052, 0.84237952]), array([0.91834261, 0.84247728]), array([0.91803319, 0.84281942]), array([0.9183781 , 0.84280595]), array([0.91825756, 0.84304517]), array([0.9186784 , 0.84316374]), array([0.91841739, 0.84347869]), array([0.9187276 , 0.84348331]), array([0.91863086, 0.84370873]), array([0.91901692, 0.84384461]), array([0.91879658, 0.84413659]), array([0.91907749, 0.84415634]), array([0.91892404, 0.84458375]), array([0.9193573 , 0.84452033]), array([0.91917132, 0.8447928 ]), array([0.91942737, 0.84482527]), array([0.91930777, 0.84523263]), array([0.919699  , 0.84519128]), array([0.91954207, 0.84544713]), array([0.91977698, 0.84549029]), array([0.919686  , 0.84588045]), array([0.92004148, 0.84585775]), array([0.9199092 , 0.84609938]), array([0.92034295, 0.84620372]), array([0.92005917, 0.84652693]), array([0.92038442, 0.84651988]), array([0.92027291, 0.84674941]), array([0.92067604, 0.84686879]), array([0.92042804, 0.84717175]), array([0.92072735, 0.84717802]), array([0.92063359, 0.84739709]), array([0.92101037, 0.84752921]), array([0.92079302, 0.84781471]), array([0.92107   , 0.84783232]), array([0.92091291, 0.84825234]), array([0.92134541, 0.84818525]), array([0.92115447, 0.84845561]), array([0.92141212, 0.84848293]), array([0.92128123, 0.84888712])])\n"
          ]
        },
        {
          "ename": "ValueError",
          "evalue": "shapes (2,2) and (4,) not aligned: 2 (dim 1) != 4 (dim 0)",
          "output_type": "error",
          "traceback": [
            "\u001b[0;31m---------------------------------------------------------------------------\u001b[0m",
            "\u001b[0;31mValueError\u001b[0m                                Traceback (most recent call last)",
            "\u001b[0;32m<ipython-input-45-55d235918bb8>\u001b[0m in \u001b[0;36m<cell line: 17>\u001b[0;34m()\u001b[0m\n\u001b[1;32m     15\u001b[0m \u001b[0mx0_multidimensional\u001b[0m \u001b[0;34m=\u001b[0m \u001b[0;34m[\u001b[0m\u001b[0;36m0\u001b[0m\u001b[0;34m,\u001b[0m \u001b[0;36m0\u001b[0m\u001b[0;34m,\u001b[0m \u001b[0;36m0\u001b[0m\u001b[0;34m,\u001b[0m \u001b[0;36m0\u001b[0m\u001b[0;34m]\u001b[0m\u001b[0;34m\u001b[0m\u001b[0;34m\u001b[0m\u001b[0m\n\u001b[1;32m     16\u001b[0m \u001b[0;31m#print(metodo_direccion_descenso(rosenbrock_multidimensional, x0_multidimensional))\u001b[0m\u001b[0;34m\u001b[0m\u001b[0;34m\u001b[0m\u001b[0m\n\u001b[0;32m---> 17\u001b[0;31m \u001b[0mprint\u001b[0m\u001b[0;34m(\u001b[0m\u001b[0mmetodo_direccion_descenso_con_criterio_parada\u001b[0m\u001b[0;34m(\u001b[0m\u001b[0mrosenbrock_multidimensional\u001b[0m\u001b[0;34m,\u001b[0m \u001b[0mx0_multidimensional\u001b[0m\u001b[0;34m)\u001b[0m\u001b[0;34m)\u001b[0m\u001b[0;34m\u001b[0m\u001b[0;34m\u001b[0m\u001b[0m\n\u001b[0m\u001b[1;32m     18\u001b[0m \u001b[0;34m\u001b[0m\u001b[0m\n\u001b[1;32m     19\u001b[0m \u001b[0;31m#Puedo graficar la funcion de Rosenbrock oara R2, y ver que pasa.\u001b[0m\u001b[0;34m\u001b[0m\u001b[0;34m\u001b[0m\u001b[0m\n",
            "\u001b[0;32m<ipython-input-44-7f9478281ee8>\u001b[0m in \u001b[0;36mmetodo_direccion_descenso_con_criterio_parada\u001b[0;34m(f, x0, thetha, eps, k_max, eps_parada)\u001b[0m\n\u001b[1;32m      5\u001b[0m   \u001b[0mk\u001b[0m \u001b[0;34m=\u001b[0m \u001b[0;36m0\u001b[0m\u001b[0;34m\u001b[0m\u001b[0;34m\u001b[0m\u001b[0m\n\u001b[1;32m      6\u001b[0m   \u001b[0;32mwhile\u001b[0m  \u001b[0mnorm\u001b[0m\u001b[0;34m(\u001b[0m\u001b[0mgradiente\u001b[0m\u001b[0;34m(\u001b[0m\u001b[0mf\u001b[0m\u001b[0;34m,\u001b[0m \u001b[0mx_k\u001b[0m\u001b[0;34m)\u001b[0m\u001b[0;34m)\u001b[0m \u001b[0;34m>\u001b[0m \u001b[0meps\u001b[0m  \u001b[0;32mand\u001b[0m  \u001b[0mk\u001b[0m \u001b[0;34m<\u001b[0m \u001b[0mk_max\u001b[0m \u001b[0;32mand\u001b[0m \u001b[0mnorm\u001b[0m\u001b[0;34m(\u001b[0m\u001b[0mgradiente\u001b[0m\u001b[0;34m(\u001b[0m\u001b[0mf\u001b[0m\u001b[0;34m,\u001b[0m \u001b[0mx_k\u001b[0m\u001b[0;34m)\u001b[0m\u001b[0;34m)\u001b[0m \u001b[0;34m>\u001b[0m \u001b[0meps_parada\u001b[0m\u001b[0;34m:\u001b[0m\u001b[0;34m\u001b[0m\u001b[0;34m\u001b[0m\u001b[0m\n\u001b[0;32m----> 7\u001b[0;31m      \u001b[0md_k\u001b[0m \u001b[0;34m=\u001b[0m \u001b[0mnp\u001b[0m\u001b[0;34m.\u001b[0m\u001b[0mdot\u001b[0m\u001b[0;34m(\u001b[0m\u001b[0mmatriz_de_rotacion\u001b[0m\u001b[0;34m(\u001b[0m\u001b[0mthetha\u001b[0m\u001b[0;34m)\u001b[0m\u001b[0;34m,\u001b[0m \u001b[0;34m-\u001b[0m\u001b[0mgradiente\u001b[0m\u001b[0;34m(\u001b[0m\u001b[0mf\u001b[0m\u001b[0;34m,\u001b[0m \u001b[0mx_k\u001b[0m\u001b[0;34m)\u001b[0m\u001b[0;34m)\u001b[0m\u001b[0;34m\u001b[0m\u001b[0;34m\u001b[0m\u001b[0m\n\u001b[0m\u001b[1;32m      8\u001b[0m      \u001b[0mt_k\u001b[0m \u001b[0;34m=\u001b[0m \u001b[0;36m1\u001b[0m\u001b[0;34m\u001b[0m\u001b[0;34m\u001b[0m\u001b[0m\n\u001b[1;32m      9\u001b[0m      \u001b[0;32mwhile\u001b[0m  \u001b[0mf\u001b[0m\u001b[0;34m(\u001b[0m\u001b[0mx_k\u001b[0m \u001b[0;34m+\u001b[0m \u001b[0mt_k\u001b[0m\u001b[0;34m*\u001b[0m\u001b[0md_k\u001b[0m\u001b[0;34m)\u001b[0m \u001b[0;34m>\u001b[0m \u001b[0mf\u001b[0m\u001b[0;34m(\u001b[0m\u001b[0mx_k\u001b[0m\u001b[0;34m)\u001b[0m\u001b[0;34m:\u001b[0m\u001b[0;34m\u001b[0m\u001b[0;34m\u001b[0m\u001b[0m\n",
            "\u001b[0;31mValueError\u001b[0m: shapes (2,2) and (4,) not aligned: 2 (dim 1) != 4 (dim 0)"
          ]
        }
      ],
      "source": [
        "def rosenbrock(x):\n",
        "  x1, x2 = x\n",
        "  return (1 - x1)**2 + 100 * (x2 - x1**2)**2\n",
        "\n",
        "x0 = [0, 0]\n",
        "print(metodo_direccion_descenso(rosenbrock, x0))\n",
        "\n",
        "def rosenbrock_multidimensional(x):\n",
        "  n = len(x)\n",
        "  res = 0\n",
        "  for i in range(n//2):\n",
        "    res += 100 * (x[2*i+1] - x[2*i]**2)**2 + (x[2*i] - 1)**2\n",
        "  return res\n",
        "\n",
        "x0_multidimensional = [0, 0, 0, 0]\n",
        "#print(metodo_direccion_descenso(rosenbrock_multidimensional, x0_multidimensional))\n",
        "print(metodo_direccion_descenso_con_criterio_parada(rosenbrock_multidimensional, x0_multidimensional))\n",
        "\n",
        "#Puedo graficar la funcion de Rosenbrock oara R2, y ver que pasa."
      ]
    },
    {
      "cell_type": "markdown",
      "metadata": {
        "id": "y4ceWGWotDrL"
      },
      "source": [
        "### Problema 3: Otro ejemplo de función para optimizar\n",
        "\n",
        "Implementar el algoritmo 1 para la función:\n",
        "\n",
        "$$\n",
        "f(x) = (x_1 - x_2^2)(x_1 - 4x_2)^2\n",
        "$$\n",
        "\n",
        "Analizar los puntos estacionarios del algoritmo, ¿existe un minimizador local? Ver qué pasa saliendo de puntos iniciales elegidos al azar."
      ]
    },
    {
      "cell_type": "code",
      "execution_count": null,
      "metadata": {
        "id": "P06ZaDNas5j_"
      },
      "outputs": [],
      "source": [
        "def nueva_funcion_objetivo(x):\n",
        "  x1, x2 = x\n",
        "  return (x1 - x2 ** 2) * (x1 - 4*x2)**2\n",
        "\n",
        "x0_i = [1, 1]\n",
        "print(metodo_direccion_descenso(nueva_funcion_objetivo, x0_i))\n",
        "print(metodo_direccion_descenso_con_criterio_parada(nueva_funcion_objetivo, x0_i))\n",
        "\n",
        "x0_ii =[1, -1]\n",
        "print(metodo_direccion_descenso(nueva_funcion_objetivo, x0_ii))\n",
        "print(metodo_direccion_descenso_con_criterio_parada(nueva_funcion_objetivo, x0_ii))\n",
        "\n",
        "x0_iii = [1, 1/4]\n",
        "print(metodo_direccion_descenso(nueva_funcion_objetivo, x0_iii))\n",
        "print(metodo_direccion_descenso_con_criterio_parada(nueva_funcion_objetivo, x0_iii))\n",
        "\n",
        "x0_iv = [2, 1/2]\n",
        "print(metodo_direccion_descenso(nueva_funcion_objetivo, x0_iv))\n",
        "print(metodo_direccion_descenso_con_criterio_parada(nueva_funcion_objetivo, x0_iv))\n",
        "\n",
        "x0_v = [4, 1]\n",
        "print(metodo_direccion_descenso(nueva_funcion_objetivo, x0_v))\n",
        "print(metodo_direccion_descenso_con_criterio_parada(nueva_funcion_objetivo, x0_v))\n",
        "\n",
        "# REVISAR PORQUE DAN COSAS MUY FEAS"
      ]
    }
  ],
  "metadata": {
    "colab": {
      "provenance": []
    },
    "kernelspec": {
      "display_name": "Python 3.8.6 64-bit",
      "language": "python",
      "name": "python3"
    },
    "language_info": {
      "codemirror_mode": {
        "name": "ipython",
        "version": 3
      },
      "file_extension": ".py",
      "mimetype": "text/x-python",
      "name": "python",
      "nbconvert_exporter": "python",
      "pygments_lexer": "ipython3",
      "version": "3.8.6"
    },
    "vscode": {
      "interpreter": {
        "hash": "bcc49cce6f20142520bf8f90684c4ad8b6b5c2da79eb7a4f6b6f05d5f02766cf"
      }
    }
  },
  "nbformat": 4,
  "nbformat_minor": 0
}
